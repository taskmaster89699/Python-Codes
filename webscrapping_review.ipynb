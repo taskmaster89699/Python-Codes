{
 "cells": [
  {
   "cell_type": "code",
   "execution_count": 115,
   "metadata": {},
   "outputs": [],
   "source": [
    "from bs4 import BeautifulSoup\n",
    "import requests"
   ]
  },
  {
   "cell_type": "code",
   "execution_count": 116,
   "metadata": {},
   "outputs": [
    {
     "data": {
      "text/html": [
       "<!DOCTYPE html>\n",
       "<html>\n",
       "<head>\n",
       "<title>Page Title</title>\n",
       "</head>\n",
       "<body>\n",
       "<h3><b id='boldest'>Lebron James</b></h3>\n",
       "<p> Salary: $ 92,000,000 </p>\n",
       "<h3> Stephen Curry</h3>\n",
       "<p> Salary: $85,000, 000 </p>\n",
       "<h3> Kevin Durant </h3>\n",
       "<p> Salary: $73,200, 000</p>\n",
       "</body>\n",
       "</html>\n"
      ],
      "text/plain": [
       "<IPython.core.display.HTML object>"
      ]
     },
     "metadata": {},
     "output_type": "display_data"
    }
   ],
   "source": [
    "%%html\n",
    "<!DOCTYPE html>\n",
    "<html>\n",
    "<head>\n",
    "<title>Page Title</title>\n",
    "</head>\n",
    "<body>\n",
    "<h3><b id='boldest'>Lebron James</b></h3>\n",
    "<p> Salary: $ 92,000,000 </p>\n",
    "<h3> Stephen Curry</h3>\n",
    "<p> Salary: $85,000, 000 </p>\n",
    "<h3> Kevin Durant </h3>\n",
    "<p> Salary: $73,200, 000</p>\n",
    "</body>\n",
    "</html>"
   ]
  },
  {
   "cell_type": "code",
   "execution_count": 117,
   "metadata": {},
   "outputs": [],
   "source": [
    "\n",
    "html=\"<!DOCTYPE html><html><head><title>Page Title</title></head><body><h3><b id='boldest'>Lebron James</b></h3><p> Salary: $ 92,000,000 </p><h3> Stephen Curry</h3><p> Salary: $85,000, 000 </p><h3> Kevin Durant </h3><p> Salary: $73,200, 000</p></body></html>\""
   ]
  },
  {
   "cell_type": "code",
   "execution_count": 118,
   "metadata": {},
   "outputs": [],
   "source": [
    "soup = BeautifulSoup(html, \"html.parser\")"
   ]
  },
  {
   "cell_type": "code",
   "execution_count": 119,
   "metadata": {},
   "outputs": [
    {
     "name": "stdout",
     "output_type": "stream",
     "text": [
      "<!DOCTYPE html>\n",
      "<html>\n",
      " <head>\n",
      "  <title>\n",
      "   Page Title\n",
      "  </title>\n",
      " </head>\n",
      " <body>\n",
      "  <h3>\n",
      "   <b id=\"boldest\">\n",
      "    Lebron James\n",
      "   </b>\n",
      "  </h3>\n",
      "  <p>\n",
      "   Salary: $ 92,000,000\n",
      "  </p>\n",
      "  <h3>\n",
      "   Stephen Curry\n",
      "  </h3>\n",
      "  <p>\n",
      "   Salary: $85,000, 000\n",
      "  </p>\n",
      "  <h3>\n",
      "   Kevin Durant\n",
      "  </h3>\n",
      "  <p>\n",
      "   Salary: $73,200, 000\n",
      "  </p>\n",
      " </body>\n",
      "</html>\n"
     ]
    }
   ],
   "source": [
    "print(soup.prettify())"
   ]
  },
  {
   "cell_type": "code",
   "execution_count": 120,
   "metadata": {},
   "outputs": [
    {
     "name": "stdout",
     "output_type": "stream",
     "text": [
      "tag object:  <title>Page Title</title>\n"
     ]
    }
   ],
   "source": [
    "tag_object= soup.title\n",
    "print(\"tag object: \", tag_object)"
   ]
  },
  {
   "cell_type": "code",
   "execution_count": 121,
   "metadata": {},
   "outputs": [
    {
     "name": "stdout",
     "output_type": "stream",
     "text": [
      "tag object type:  <class 'bs4.element.Tag'>\n"
     ]
    }
   ],
   "source": [
    "print(\"tag object type: \", type(tag_object))"
   ]
  },
  {
   "cell_type": "code",
   "execution_count": 122,
   "metadata": {},
   "outputs": [
    {
     "data": {
      "text/plain": [
       "<h3><b id=\"boldest\">Lebron James</b></h3>"
      ]
     },
     "execution_count": 122,
     "metadata": {},
     "output_type": "execute_result"
    }
   ],
   "source": [
    "tag_object= soup.h3\n",
    "tag_object"
   ]
  },
  {
   "cell_type": "code",
   "execution_count": 123,
   "metadata": {},
   "outputs": [
    {
     "data": {
      "text/plain": [
       "<b id=\"boldest\">Lebron James</b>"
      ]
     },
     "execution_count": 123,
     "metadata": {},
     "output_type": "execute_result"
    }
   ],
   "source": [
    "tag_child = tag_object.b\n",
    "tag_child"
   ]
  },
  {
   "cell_type": "code",
   "execution_count": 124,
   "metadata": {},
   "outputs": [
    {
     "data": {
      "text/plain": [
       "<h3><b id=\"boldest\">Lebron James</b></h3>"
      ]
     },
     "execution_count": 124,
     "metadata": {},
     "output_type": "execute_result"
    }
   ],
   "source": [
    "parent_tag= tag_child.parent\n",
    "parent_tag\n"
   ]
  },
  {
   "cell_type": "code",
   "execution_count": 125,
   "metadata": {},
   "outputs": [
    {
     "data": {
      "text/plain": [
       "<body><h3><b id=\"boldest\">Lebron James</b></h3><p> Salary: $ 92,000,000 </p><h3> Stephen Curry</h3><p> Salary: $85,000, 000 </p><h3> Kevin Durant </h3><p> Salary: $73,200, 000</p></body>"
      ]
     },
     "execution_count": 125,
     "metadata": {},
     "output_type": "execute_result"
    }
   ],
   "source": [
    "tag_object.parent"
   ]
  },
  {
   "cell_type": "code",
   "execution_count": 126,
   "metadata": {},
   "outputs": [
    {
     "data": {
      "text/plain": [
       "<p> Salary: $ 92,000,000 </p>"
      ]
     },
     "execution_count": 126,
     "metadata": {},
     "output_type": "execute_result"
    }
   ],
   "source": [
    "sibling_1= tag_object.next_sibling\n",
    "sibling_1"
   ]
  },
  {
   "cell_type": "code",
   "execution_count": 127,
   "metadata": {},
   "outputs": [
    {
     "data": {
      "text/plain": [
       "<h3> Stephen Curry</h3>"
      ]
     },
     "execution_count": 127,
     "metadata": {},
     "output_type": "execute_result"
    }
   ],
   "source": [
    "sibling_2 = sibling_1.next_sibling\n",
    "sibling_2"
   ]
  },
  {
   "cell_type": "code",
   "execution_count": 128,
   "metadata": {},
   "outputs": [
    {
     "data": {
      "text/plain": [
       "<p> Salary: $85,000, 000 </p>"
      ]
     },
     "execution_count": 128,
     "metadata": {},
     "output_type": "execute_result"
    }
   ],
   "source": [
    "object_2=sibling_2.next_sibling\n",
    "object_2"
   ]
  },
  {
   "cell_type": "code",
   "execution_count": 129,
   "metadata": {},
   "outputs": [
    {
     "data": {
      "text/plain": [
       "'boldest'"
      ]
     },
     "execution_count": 129,
     "metadata": {},
     "output_type": "execute_result"
    }
   ],
   "source": [
    "tag_child['id']"
   ]
  },
  {
   "cell_type": "code",
   "execution_count": 130,
   "metadata": {},
   "outputs": [
    {
     "data": {
      "text/plain": [
       "{'id': 'boldest'}"
      ]
     },
     "execution_count": 130,
     "metadata": {},
     "output_type": "execute_result"
    }
   ],
   "source": [
    "tag_child.attrs"
   ]
  },
  {
   "cell_type": "code",
   "execution_count": 131,
   "metadata": {},
   "outputs": [
    {
     "data": {
      "text/plain": [
       "'boldest'"
      ]
     },
     "execution_count": 131,
     "metadata": {},
     "output_type": "execute_result"
    }
   ],
   "source": [
    "tag_child.get('id')"
   ]
  },
  {
   "cell_type": "code",
   "execution_count": 132,
   "metadata": {},
   "outputs": [],
   "source": [
    "tag_string=  tag_child.string"
   ]
  },
  {
   "cell_type": "code",
   "execution_count": 133,
   "metadata": {},
   "outputs": [
    {
     "data": {
      "text/plain": [
       "'Lebron James'"
      ]
     },
     "execution_count": 133,
     "metadata": {},
     "output_type": "execute_result"
    }
   ],
   "source": [
    "tag_string\n"
   ]
  },
  {
   "cell_type": "code",
   "execution_count": 134,
   "metadata": {},
   "outputs": [
    {
     "data": {
      "text/plain": [
       "<h3><b id=\"boldest\">Lebron James</b></h3>"
      ]
     },
     "execution_count": 134,
     "metadata": {},
     "output_type": "execute_result"
    }
   ],
   "source": [
    "tag_object.string\n",
    "tag_object"
   ]
  },
  {
   "cell_type": "code",
   "execution_count": 135,
   "metadata": {},
   "outputs": [
    {
     "data": {
      "text/plain": [
       "<b id=\"boldest\">Lebron James</b>"
      ]
     },
     "execution_count": 135,
     "metadata": {},
     "output_type": "execute_result"
    }
   ],
   "source": [
    "tag_child"
   ]
  },
  {
   "cell_type": "code",
   "execution_count": 136,
   "metadata": {},
   "outputs": [
    {
     "data": {
      "text/plain": [
       "bs4.element.NavigableString"
      ]
     },
     "execution_count": 136,
     "metadata": {},
     "output_type": "execute_result"
    }
   ],
   "source": [
    "type(tag_string)"
   ]
  },
  {
   "cell_type": "code",
   "execution_count": 137,
   "metadata": {},
   "outputs": [
    {
     "data": {
      "text/plain": [
       "'Lebron James'"
      ]
     },
     "execution_count": 137,
     "metadata": {},
     "output_type": "execute_result"
    }
   ],
   "source": [
    "unicode_string= str(tag_string)\n",
    "unicode_string"
   ]
  },
  {
   "cell_type": "code",
   "execution_count": 138,
   "metadata": {},
   "outputs": [
    {
     "data": {
      "text/plain": [
       "str"
      ]
     },
     "execution_count": 138,
     "metadata": {},
     "output_type": "execute_result"
    }
   ],
   "source": [
    "type(unicode_string)"
   ]
  },
  {
   "cell_type": "code",
   "execution_count": 139,
   "metadata": {},
   "outputs": [
    {
     "data": {
      "text/html": [
       "<table>\n",
       "  <tr>\n",
       "    <td id='flight' >Flight No</td>\n",
       "    <td>Launch site</td> \n",
       "    <td>Payload mass</td>\n",
       "   </tr>\n",
       "  <tr> \n",
       "    <td>1</td>\n",
       "    <td><a href='https://en.wikipedia.org/wiki/Florida'>Florida</a></td>\n",
       "    <td>300 kg</td>\n",
       "  </tr>\n",
       "  <tr>\n",
       "    <td>2</td>\n",
       "    <td><a href='https://en.wikipedia.org/wiki/Texas'>Texas</a></td>\n",
       "    <td>94 kg</td>\n",
       "  </tr>\n",
       "  <tr>\n",
       "    <td>3</td>\n",
       "    <td><a href='https://en.wikipedia.org/wiki/Florida'>Florida<a> </td>\n",
       "    <td>80 kg</td>\n",
       "  </tr>\n",
       "</table>\n"
      ],
      "text/plain": [
       "<IPython.core.display.HTML object>"
      ]
     },
     "metadata": {},
     "output_type": "display_data"
    }
   ],
   "source": [
    "%%html\n",
    "<table>\n",
    "  <tr>\n",
    "    <td id='flight' >Flight No</td>\n",
    "    <td>Launch site</td> \n",
    "    <td>Payload mass</td>\n",
    "   </tr>\n",
    "  <tr> \n",
    "    <td>1</td>\n",
    "    <td><a href='https://en.wikipedia.org/wiki/Florida'>Florida</a></td>\n",
    "    <td>300 kg</td>\n",
    "  </tr>\n",
    "  <tr>\n",
    "    <td>2</td>\n",
    "    <td><a href='https://en.wikipedia.org/wiki/Texas'>Texas</a></td>\n",
    "    <td>94 kg</td>\n",
    "  </tr>\n",
    "  <tr>\n",
    "    <td>3</td>\n",
    "    <td><a href='https://en.wikipedia.org/wiki/Florida'>Florida<a> </td>\n",
    "    <td>80 kg</td>\n",
    "  </tr>\n",
    "</table>"
   ]
  },
  {
   "cell_type": "code",
   "execution_count": 140,
   "metadata": {},
   "outputs": [],
   "source": [
    "table=\"<table><tr><td id='flight'>Flight No</td><td>Launch site</td> <td>Payload mass</td></tr><tr> <td>1</td><td><a href='https://en.wikipedia.org/wiki/Florida'>Florida<a></td><td>300 kg</td></tr><tr><td>2</td><td><a href='https://en.wikipedia.org/wiki/Texas'>Texas</a></td><td>94 kg</td></tr><tr><td>3</td><td><a href='https://en.wikipedia.org/wiki/Florida'>Florida<a> </td><td>80 kg</td></tr></table>\""
   ]
  },
  {
   "cell_type": "code",
   "execution_count": 141,
   "metadata": {},
   "outputs": [
    {
     "data": {
      "text/plain": [
       "\"<table><tr><td id='flight'>Flight No</td><td>Launch site</td> <td>Payload mass</td></tr><tr> <td>1</td><td><a href='https://en.wikipedia.org/wiki/Florida'>Florida<a></td><td>300 kg</td></tr><tr><td>2</td><td><a href='https://en.wikipedia.org/wiki/Texas'>Texas</a></td><td>94 kg</td></tr><tr><td>3</td><td><a href='https://en.wikipedia.org/wiki/Florida'>Florida<a> </td><td>80 kg</td></tr></table>\""
      ]
     },
     "execution_count": 141,
     "metadata": {},
     "output_type": "execute_result"
    }
   ],
   "source": [
    "table"
   ]
  },
  {
   "cell_type": "code",
   "execution_count": 142,
   "metadata": {},
   "outputs": [
    {
     "data": {
      "text/plain": [
       "<table><tr><td id=\"flight\">Flight No</td><td>Launch site</td> <td>Payload mass</td></tr><tr> <td>1</td><td><a href=\"https://en.wikipedia.org/wiki/Florida\">Florida<a></a></a></td><td>300 kg</td></tr><tr><td>2</td><td><a href=\"https://en.wikipedia.org/wiki/Texas\">Texas</a></td><td>94 kg</td></tr><tr><td>3</td><td><a href=\"https://en.wikipedia.org/wiki/Florida\">Florida<a> </a></a></td><td>80 kg</td></tr></table>"
      ]
     },
     "execution_count": 142,
     "metadata": {},
     "output_type": "execute_result"
    }
   ],
   "source": [
    "table_bs= BeautifulSoup(table,'html.parser')\n",
    "table_bs"
   ]
  },
  {
   "cell_type": "code",
   "execution_count": 143,
   "metadata": {},
   "outputs": [
    {
     "data": {
      "text/plain": [
       "[<tr><td id=\"flight\">Flight No</td><td>Launch site</td> <td>Payload mass</td></tr>,\n",
       " <tr> <td>1</td><td><a href=\"https://en.wikipedia.org/wiki/Florida\">Florida<a></a></a></td><td>300 kg</td></tr>,\n",
       " <tr><td>2</td><td><a href=\"https://en.wikipedia.org/wiki/Texas\">Texas</a></td><td>94 kg</td></tr>,\n",
       " <tr><td>3</td><td><a href=\"https://en.wikipedia.org/wiki/Florida\">Florida<a> </a></a></td><td>80 kg</td></tr>]"
      ]
     },
     "execution_count": 143,
     "metadata": {},
     "output_type": "execute_result"
    }
   ],
   "source": [
    "table_rows = table_bs.find_all('tr')\n",
    "table_rows"
   ]
  },
  {
   "cell_type": "code",
   "execution_count": 144,
   "metadata": {},
   "outputs": [
    {
     "data": {
      "text/plain": [
       "<tr><td id=\"flight\">Flight No</td><td>Launch site</td> <td>Payload mass</td></tr>"
      ]
     },
     "execution_count": 144,
     "metadata": {},
     "output_type": "execute_result"
    }
   ],
   "source": [
    "first_row= table_rows[0]\n",
    "first_row"
   ]
  },
  {
   "cell_type": "code",
   "execution_count": 145,
   "metadata": {},
   "outputs": [
    {
     "data": {
      "text/plain": [
       "bs4.element.Tag"
      ]
     },
     "execution_count": 145,
     "metadata": {},
     "output_type": "execute_result"
    }
   ],
   "source": [
    "type(first_row)"
   ]
  },
  {
   "cell_type": "code",
   "execution_count": 146,
   "metadata": {},
   "outputs": [
    {
     "data": {
      "text/plain": [
       "<td id=\"flight\">Flight No</td>"
      ]
     },
     "execution_count": 146,
     "metadata": {},
     "output_type": "execute_result"
    }
   ],
   "source": [
    "first_row.td\n"
   ]
  },
  {
   "cell_type": "code",
   "execution_count": 147,
   "metadata": {},
   "outputs": [
    {
     "name": "stdout",
     "output_type": "stream",
     "text": [
      "row 0 is <tr><td id=\"flight\">Flight No</td><td>Launch site</td> <td>Payload mass</td></tr>\n",
      "row 1 is <tr> <td>1</td><td><a href=\"https://en.wikipedia.org/wiki/Florida\">Florida<a></a></a></td><td>300 kg</td></tr>\n",
      "row 2 is <tr><td>2</td><td><a href=\"https://en.wikipedia.org/wiki/Texas\">Texas</a></td><td>94 kg</td></tr>\n",
      "row 3 is <tr><td>3</td><td><a href=\"https://en.wikipedia.org/wiki/Florida\">Florida<a> </a></a></td><td>80 kg</td></tr>\n"
     ]
    }
   ],
   "source": [
    "for i, row in enumerate(table_rows):\n",
    "    print('row',i,'is',row)"
   ]
  },
  {
   "cell_type": "code",
   "execution_count": 148,
   "metadata": {},
   "outputs": [
    {
     "name": "stdout",
     "output_type": "stream",
     "text": [
      "row 0\n",
      "column 0 cell <td id=\"flight\">Flight No</td>\n",
      "column 1 cell <td>Launch site</td>\n",
      "column 2 cell <td>Payload mass</td>\n",
      "row 1\n",
      "column 0 cell <td>1</td>\n",
      "column 1 cell <td><a href=\"https://en.wikipedia.org/wiki/Florida\">Florida<a></a></a></td>\n",
      "column 2 cell <td>300 kg</td>\n",
      "row 2\n",
      "column 0 cell <td>2</td>\n",
      "column 1 cell <td><a href=\"https://en.wikipedia.org/wiki/Texas\">Texas</a></td>\n",
      "column 2 cell <td>94 kg</td>\n",
      "row 3\n",
      "column 0 cell <td>3</td>\n",
      "column 1 cell <td><a href=\"https://en.wikipedia.org/wiki/Florida\">Florida<a> </a></a></td>\n",
      "column 2 cell <td>80 kg</td>\n"
     ]
    }
   ],
   "source": [
    "for i,row in enumerate(table_rows):\n",
    "    print(\"row\",i)\n",
    "    cells= row.find_all('td')\n",
    "    for j,cell in enumerate(cells):\n",
    "        print('column',j,'cell',cell)"
   ]
  },
  {
   "cell_type": "code",
   "execution_count": 149,
   "metadata": {},
   "outputs": [
    {
     "data": {
      "text/plain": [
       "[<tr><td id=\"flight\">Flight No</td><td>Launch site</td> <td>Payload mass</td></tr>,\n",
       " <td id=\"flight\">Flight No</td>,\n",
       " <td>Launch site</td>,\n",
       " <td>Payload mass</td>,\n",
       " <tr> <td>1</td><td><a href=\"https://en.wikipedia.org/wiki/Florida\">Florida<a></a></a></td><td>300 kg</td></tr>,\n",
       " <td>1</td>,\n",
       " <td><a href=\"https://en.wikipedia.org/wiki/Florida\">Florida<a></a></a></td>,\n",
       " <td>300 kg</td>,\n",
       " <tr><td>2</td><td><a href=\"https://en.wikipedia.org/wiki/Texas\">Texas</a></td><td>94 kg</td></tr>,\n",
       " <td>2</td>,\n",
       " <td><a href=\"https://en.wikipedia.org/wiki/Texas\">Texas</a></td>,\n",
       " <td>94 kg</td>,\n",
       " <tr><td>3</td><td><a href=\"https://en.wikipedia.org/wiki/Florida\">Florida<a> </a></a></td><td>80 kg</td></tr>,\n",
       " <td>3</td>,\n",
       " <td><a href=\"https://en.wikipedia.org/wiki/Florida\">Florida<a> </a></a></td>,\n",
       " <td>80 kg</td>]"
      ]
     },
     "execution_count": 149,
     "metadata": {},
     "output_type": "execute_result"
    }
   ],
   "source": [
    "list_input= table_bs.find_all(name= ['tr','td'])\n",
    "list_input"
   ]
  },
  {
   "cell_type": "code",
   "execution_count": 150,
   "metadata": {},
   "outputs": [
    {
     "data": {
      "text/plain": [
       "[<td id=\"flight\">Flight No</td>]"
      ]
     },
     "execution_count": 150,
     "metadata": {},
     "output_type": "execute_result"
    }
   ],
   "source": [
    "table_bs.find_all(id='flight')"
   ]
  },
  {
   "cell_type": "code",
   "execution_count": 151,
   "metadata": {},
   "outputs": [
    {
     "data": {
      "text/plain": [
       "[]"
      ]
     },
     "execution_count": 151,
     "metadata": {},
     "output_type": "execute_result"
    }
   ],
   "source": [
    "list_input=table_bs.find_all(href=\"en.wikipedia.org/wiki/Florida\")\n",
    "list_input"
   ]
  },
  {
   "cell_type": "code",
   "execution_count": 152,
   "metadata": {},
   "outputs": [
    {
     "data": {
      "text/plain": [
       "[<a href=\"https://en.wikipedia.org/wiki/Florida\">Florida<a></a></a>,\n",
       " <a href=\"https://en.wikipedia.org/wiki/Texas\">Texas</a>,\n",
       " <a href=\"https://en.wikipedia.org/wiki/Florida\">Florida<a> </a></a>]"
      ]
     },
     "execution_count": 152,
     "metadata": {},
     "output_type": "execute_result"
    }
   ],
   "source": [
    "table_bs.find_all(href=True)"
   ]
  },
  {
   "cell_type": "code",
   "execution_count": 153,
   "metadata": {},
   "outputs": [
    {
     "data": {
      "text/plain": [
       "[<table><tr><td id=\"flight\">Flight No</td><td>Launch site</td> <td>Payload mass</td></tr><tr> <td>1</td><td><a href=\"https://en.wikipedia.org/wiki/Florida\">Florida<a></a></a></td><td>300 kg</td></tr><tr><td>2</td><td><a href=\"https://en.wikipedia.org/wiki/Texas\">Texas</a></td><td>94 kg</td></tr><tr><td>3</td><td><a href=\"https://en.wikipedia.org/wiki/Florida\">Florida<a> </a></a></td><td>80 kg</td></tr></table>,\n",
       " <tr><td id=\"flight\">Flight No</td><td>Launch site</td> <td>Payload mass</td></tr>,\n",
       " <td id=\"flight\">Flight No</td>,\n",
       " <td>Launch site</td>,\n",
       " <td>Payload mass</td>,\n",
       " <tr> <td>1</td><td><a href=\"https://en.wikipedia.org/wiki/Florida\">Florida<a></a></a></td><td>300 kg</td></tr>,\n",
       " <td>1</td>,\n",
       " <td><a href=\"https://en.wikipedia.org/wiki/Florida\">Florida<a></a></a></td>,\n",
       " <a></a>,\n",
       " <td>300 kg</td>,\n",
       " <tr><td>2</td><td><a href=\"https://en.wikipedia.org/wiki/Texas\">Texas</a></td><td>94 kg</td></tr>,\n",
       " <td>2</td>,\n",
       " <td><a href=\"https://en.wikipedia.org/wiki/Texas\">Texas</a></td>,\n",
       " <td>94 kg</td>,\n",
       " <tr><td>3</td><td><a href=\"https://en.wikipedia.org/wiki/Florida\">Florida<a> </a></a></td><td>80 kg</td></tr>,\n",
       " <td>3</td>,\n",
       " <td><a href=\"https://en.wikipedia.org/wiki/Florida\">Florida<a> </a></a></td>,\n",
       " <a> </a>,\n",
       " <td>80 kg</td>]"
      ]
     },
     "execution_count": 153,
     "metadata": {},
     "output_type": "execute_result"
    }
   ],
   "source": [
    "table_bs.find_all(href=False)\n"
   ]
  },
  {
   "cell_type": "code",
   "execution_count": 154,
   "metadata": {},
   "outputs": [
    {
     "data": {
      "text/plain": [
       "[<b id=\"boldest\">Lebron James</b>]"
      ]
     },
     "execution_count": 154,
     "metadata": {},
     "output_type": "execute_result"
    }
   ],
   "source": [
    "soup.find_all(id='boldest')"
   ]
  },
  {
   "cell_type": "code",
   "execution_count": 155,
   "metadata": {},
   "outputs": [
    {
     "data": {
      "text/plain": [
       "['Florida', 'Florida']"
      ]
     },
     "execution_count": 155,
     "metadata": {},
     "output_type": "execute_result"
    }
   ],
   "source": [
    "table_bs.find_all(string='Florida')"
   ]
  },
  {
   "cell_type": "code",
   "execution_count": 156,
   "metadata": {},
   "outputs": [
    {
     "data": {
      "text/html": [
       "<h3>Rocket Launch </h3>\n",
       "\n",
       "<p>\n",
       "<table class='rocket'>\n",
       "  <tr>\n",
       "    <td>Flight No</td>\n",
       "    <td>Launch site</td> \n",
       "    <td>Payload mass</td>\n",
       "  </tr>\n",
       "  <tr>\n",
       "    <td>1</td>\n",
       "    <td>Florida</td>\n",
       "    <td>300 kg</td>\n",
       "  </tr>\n",
       "  <tr>\n",
       "    <td>2</td>\n",
       "    <td>Texas</td>\n",
       "    <td>94 kg</td>\n",
       "  </tr>\n",
       "  <tr>\n",
       "    <td>3</td>\n",
       "    <td>Florida </td>\n",
       "    <td>80 kg</td>\n",
       "  </tr>\n",
       "</table>\n",
       "</p>\n",
       "<p>\n",
       "\n",
       "<h3>Pizza Party  </h3>\n",
       "  \n",
       "    \n",
       "<table class='pizza'>\n",
       "  <tr>\n",
       "    <td>Pizza Place</td>\n",
       "    <td>Orders</td> \n",
       "    <td>Slices </td>\n",
       "   </tr>\n",
       "  <tr>\n",
       "    <td>Domino's Pizza</td>\n",
       "    <td>10</td>\n",
       "    <td>100</td>\n",
       "  </tr>\n",
       "  <tr>\n",
       "    <td>Little Caesars</td>\n",
       "    <td>12</td>\n",
       "    <td >144 </td>\n",
       "  </tr>\n",
       "  <tr>\n",
       "    <td>Papa John's </td>\n",
       "    <td>15 </td>\n",
       "    <td>165</td>\n",
       "  </tr>\n"
      ],
      "text/plain": [
       "<IPython.core.display.HTML object>"
      ]
     },
     "metadata": {},
     "output_type": "display_data"
    }
   ],
   "source": [
    "%%html\n",
    "<h3>Rocket Launch </h3>\n",
    "\n",
    "<p>\n",
    "<table class='rocket'>\n",
    "  <tr>\n",
    "    <td>Flight No</td>\n",
    "    <td>Launch site</td> \n",
    "    <td>Payload mass</td>\n",
    "  </tr>\n",
    "  <tr>\n",
    "    <td>1</td>\n",
    "    <td>Florida</td>\n",
    "    <td>300 kg</td>\n",
    "  </tr>\n",
    "  <tr>\n",
    "    <td>2</td>\n",
    "    <td>Texas</td>\n",
    "    <td>94 kg</td>\n",
    "  </tr>\n",
    "  <tr>\n",
    "    <td>3</td>\n",
    "    <td>Florida </td>\n",
    "    <td>80 kg</td>\n",
    "  </tr>\n",
    "</table>\n",
    "</p>\n",
    "<p>\n",
    "\n",
    "<h3>Pizza Party  </h3>\n",
    "  \n",
    "    \n",
    "<table class='pizza'>\n",
    "  <tr>\n",
    "    <td>Pizza Place</td>\n",
    "    <td>Orders</td> \n",
    "    <td>Slices </td>\n",
    "   </tr>\n",
    "  <tr>\n",
    "    <td>Domino's Pizza</td>\n",
    "    <td>10</td>\n",
    "    <td>100</td>\n",
    "  </tr>\n",
    "  <tr>\n",
    "    <td>Little Caesars</td>\n",
    "    <td>12</td>\n",
    "    <td >144 </td>\n",
    "  </tr>\n",
    "  <tr>\n",
    "    <td>Papa John's </td>\n",
    "    <td>15 </td>\n",
    "    <td>165</td>\n",
    "  </tr>\n"
   ]
  },
  {
   "cell_type": "code",
   "execution_count": 157,
   "metadata": {},
   "outputs": [],
   "source": [
    "two_tables=\"<h3>Rocket Launch </h3><p><table class='rocket'><tr><td>Flight No</td><td>Launch site</td> <td>Payload mass</td></tr><tr><td>1</td><td>Florida</td><td>300 kg</td></tr><tr><td>2</td><td>Texas</td><td>94 kg</td></tr><tr><td>3</td><td>Florida </td><td>80 kg</td></tr></table></p><p><h3>Pizza Party  </h3><table class='pizza'><tr><td>Pizza Place</td><td>Orders</td> <td>Slices </td></tr><tr><td>Domino's Pizza</td><td>10</td><td>100</td></tr><tr><td>Little Caesars</td><td>12</td><td >144 </td></tr><tr><td>Papa John's </td><td>15 </td><td>165</td></tr>\""
   ]
  },
  {
   "cell_type": "code",
   "execution_count": 158,
   "metadata": {},
   "outputs": [],
   "source": [
    "two_tables_bs=BeautifulSoup(two_tables,'html.parser')"
   ]
  },
  {
   "cell_type": "code",
   "execution_count": 159,
   "metadata": {},
   "outputs": [
    {
     "data": {
      "text/plain": [
       "<table class=\"rocket\"><tr><td>Flight No</td><td>Launch site</td> <td>Payload mass</td></tr><tr><td>1</td><td>Florida</td><td>300 kg</td></tr><tr><td>2</td><td>Texas</td><td>94 kg</td></tr><tr><td>3</td><td>Florida </td><td>80 kg</td></tr></table>"
      ]
     },
     "execution_count": 159,
     "metadata": {},
     "output_type": "execute_result"
    }
   ],
   "source": [
    "two_tables_bs.find('table')"
   ]
  },
  {
   "cell_type": "code",
   "execution_count": 160,
   "metadata": {},
   "outputs": [
    {
     "data": {
      "text/plain": [
       "<table class=\"pizza\"><tr><td>Pizza Place</td><td>Orders</td> <td>Slices </td></tr><tr><td>Domino's Pizza</td><td>10</td><td>100</td></tr><tr><td>Little Caesars</td><td>12</td><td>144 </td></tr><tr><td>Papa John's </td><td>15 </td><td>165</td></tr></table>"
      ]
     },
     "execution_count": 160,
     "metadata": {},
     "output_type": "execute_result"
    }
   ],
   "source": [
    "two_tables_bs.find('table',class_='pizza')"
   ]
  },
  {
   "cell_type": "code",
   "execution_count": 161,
   "metadata": {},
   "outputs": [],
   "source": [
    "url='http://www.ibm.com'"
   ]
  },
  {
   "cell_type": "code",
   "execution_count": 162,
   "metadata": {},
   "outputs": [
    {
     "data": {
      "text/plain": [
       "'<!DOCTYPE html>\\n<html lang=\"en-in\" dir=\"ltr\">\\n  <head>\\n    <meta charset=\"utf-8\" />\\n<script>digitalData = {\\n    \"page\": {\\n        \"category\": [],\\n        \"pageInfo\": {\\n            \"language\": \"en-IN\",\\n            \"country\": \"IN\",\\n            \"publisher\": \"IBM Corporation\",\\n            \"version\": \"v19\",\\n            \"ibm\": {\\n                \"contentDelivery\": \"Drupal 9\",\\n                \"contentProducer\": \"2598578 - Page Builder\",\\n                \"owner\": \"Peter Barros/White Plains/IBM\",\\n                \"siteID\": \"DRUPAL\",\\n                \"contactModuleConfiguration\": {\\n                    \"contactInformationBundleKey\": {\\n                        \"focusArea\": \"Miscellaneous - About IBM\",\\n                        \"languageCode\": \"en\",\\n                        \"regionCode\": \"IN\"\\n                    },\\n                    \"contactModuleTranslationKey\": {\\n                        \"languageCode\": \"en\",\\n                        \"regionCode\": \"IN\"\\n                    }\\n                },\\n                \"config\": {\\n                    \"masthead\": {\\n                        \"type\": \"default\"\\n                    },\\n                    \"footer\": {\\n                        \"type\": \"default\"\\n                    }\\n                }\\n            },\\n            \"publishDate\": \"2022-04-28\",\\n            \"effectiveDate\": \"2021-03-08\",\\n            \"expiryDate\": \"2026-04-28\"\\n        }\\n    }\\n}</script>\\n<meta name=\"geo.country\" content=\"IN\" />\\n<link rel=\"canonical\" href=\"https://www.ibm.com/in-en\" />\\n<meta name=\"robots\" content=\"index, follow\" />\\n<meta name=\"referrer\" content=\"no-referrer-when-downgrade\" />\\n<meta name=\"rights\" content=\"© Copyright IBM Corporation 2022\" />\\n<meta name=\"description\" content=\"For more than a century IBM has been dedicated to every client&#039;s success and to creating innovations that matter for the world\" />\\n<meta property=\"og:type\" content=\"website\" />\\n<meta property=\"og:url\" content=\"https://www.ibm.com/in-en\" />\\n<meta property=\"og:title\" content=\"IBM\" />\\n<meta property=\"og:description\" content=\"For more than a century IBM has been dedicated to every client&#039;s success and to creating innovations that matter for the world\" />\\n<meta property=\"og:image\" content=\"https://1.cms.s81c.com/sites/default/files/2021-02-17/20210215-ls-red-hat-cloud-2304x983.jpg\" />\\n<meta property=\"og:locale\" content=\"en-in\" />\\n<meta name=\"twitter:card\" content=\"summary\" />\\n<script>cpp = {\"path\":\"\\\\/cloud\\\\/ajax\\\\/product\\\\/{product}\"}</script>\\n<meta name=\"viewport\" content=\"width=device-width, initial-scale=1.0\" />\\n<script data-title=\"Components design metadata\">/*\\nLeadspace: v19 - module_4e - Leadspace (5E)\\n\\nBands/Sections:\\n1. v19 - Carousel Module 1B - Features (1B)\\n2. v19 - Carousel Module 1B - Trials (1B)\\n3. v19 - Module 12A - Announcement\\n4. v19 - Carousel Module 2B - Products (2B)\\n5. v19 - Module 11A (Double) - Content Spotlight (11A)\\n\\n*/</script>\\n<link rel=\"alternate\" hreflang=\"en-af\" href=\"https://www.ibm.com/af-en\" />\\n<link rel=\"alternate\" hreflang=\"fr-dz\" href=\"https://www.ibm.com/dz-fr\" />\\n<link rel=\"alternate\" hreflang=\"pt-ao\" href=\"https://www.ibm.com/ao-pt\" />\\n<link rel=\"alternate\" hreflang=\"en-ai\" href=\"https://www.ibm.com/ai-en\" />\\n<link rel=\"alternate\" hreflang=\"en-ag\" href=\"https://www.ibm.com/ag-en\" />\\n<link rel=\"alternate\" hreflang=\"es-ar\" href=\"https://www.ibm.com/ar-es\" />\\n<link rel=\"alternate\" hreflang=\"en-aw\" href=\"https://www.ibm.com/aw-en\" />\\n<link rel=\"alternate\" hreflang=\"en-au\" href=\"https://www.ibm.com/au-en\" />\\n<link rel=\"alternate\" hreflang=\"de-at\" href=\"https://www.ibm.com/at-de\" />\\n<link rel=\"alternate\" hreflang=\"en-bs\" href=\"https://www.ibm.com/bs-en\" />\\n<link rel=\"alternate\" hreflang=\"en-bh\" href=\"https://www.ibm.com/bh-en\" />\\n<link rel=\"alternate\" hreflang=\"en-bd\" href=\"https://www.ibm.com/bd-en\" />\\n<link rel=\"alternate\" hreflang=\"en-bb\" href=\"https://www.ibm.com/bb-en\" />\\n<link rel=\"alternate\" hreflang=\"en-be\" href=\"https://www.ibm.com/be-en\" />\\n<link rel=\"alternate\" hreflang=\"en-bm\" href=\"https://www.ibm.com/bm-en\" />\\n<link rel=\"alternate\" hreflang=\"es-bo\" href=\"https://www.ibm.com/bo-es\" />\\n<link rel=\"alternate\" hreflang=\"en-bw\" href=\"https://www.ibm.com/bw-en\" />\\n<link rel=\"alternate\" hreflang=\"pt-br\" href=\"https://www.ibm.com/br-pt\" />\\n<link rel=\"alternate\" hreflang=\"en-vg\" href=\"https://www.ibm.com/vg-en\" />\\n<link rel=\"alternate\" hreflang=\"en-bn\" href=\"https://www.ibm.com/bn-en\" />\\n<link rel=\"alternate\" hreflang=\"en-bg\" href=\"https://www.ibm.com/bg-en\" />\\n<link rel=\"alternate\" hreflang=\"fr-bf\" href=\"https://www.ibm.com/bf-fr\" />\\n<link rel=\"alternate\" hreflang=\"en-kh\" href=\"https://www.ibm.com/kh-en\" />\\n<link rel=\"alternate\" hreflang=\"fr-cm\" href=\"https://www.ibm.com/cm-fr\" />\\n<link rel=\"alternate\" hreflang=\"en-ca\" href=\"https://www.ibm.com/ca-en\" />\\n<link rel=\"alternate\" hreflang=\"fr-ca\" href=\"https://www.ibm.com/ca-fr\" />\\n<link rel=\"alternate\" hreflang=\"en-ky\" href=\"https://www.ibm.com/ky-en\" />\\n<link rel=\"alternate\" hreflang=\"fr-td\" href=\"https://www.ibm.com/td-fr\" />\\n<link rel=\"alternate\" hreflang=\"es-cl\" href=\"https://www.ibm.com/cl-es\" />\\n<link rel=\"alternate\" hreflang=\"zh-cn\" href=\"https://www.ibm.com/cn-zh\" />\\n<link rel=\"alternate\" hreflang=\"es-co\" href=\"https://www.ibm.com/co-es\" />\\n<link rel=\"alternate\" hreflang=\"fr-cd\" href=\"https://www.ibm.com/cd-fr\" />\\n<link rel=\"alternate\" hreflang=\"fr-cg\" href=\"https://www.ibm.com/cg-fr\" />\\n<link rel=\"alternate\" hreflang=\"es-cr\" href=\"https://www.ibm.com/cr-es\" />\\n<link rel=\"alternate\" hreflang=\"en-hr\" href=\"https://www.ibm.com/hr-en\" />\\n<link rel=\"alternate\" hreflang=\"en-cw\" href=\"https://www.ibm.com/cw-en\" />\\n<link rel=\"alternate\" hreflang=\"en-cy\" href=\"https://www.ibm.com/cy-en\" />\\n<link rel=\"alternate\" hreflang=\"en-cz\" href=\"https://www.ibm.com/cz-en\" />\\n<link rel=\"alternate\" hreflang=\"en-dm\" href=\"https://www.ibm.com/dm-en\" />\\n<link rel=\"alternate\" hreflang=\"en-dk\" href=\"https://www.ibm.com/dk-en\" />\\n<link rel=\"alternate\" hreflang=\"es-ec\" href=\"https://www.ibm.com/ec-es\" />\\n<link rel=\"alternate\" hreflang=\"en-eg\" href=\"https://www.ibm.com/eg-en\" />\\n<link rel=\"alternate\" hreflang=\"en-ee\" href=\"https://www.ibm.com/ee-en\" />\\n<link rel=\"alternate\" hreflang=\"en-et\" href=\"https://www.ibm.com/et-en\" />\\n<link rel=\"alternate\" hreflang=\"en-fi\" href=\"https://www.ibm.com/fi-en\" />\\n<link rel=\"alternate\" hreflang=\"fr-fr\" href=\"https://www.ibm.com/fr-fr\" />\\n<link rel=\"alternate\" hreflang=\"fr-ga\" href=\"https://www.ibm.com/ga-fr\" />\\n<link rel=\"alternate\" hreflang=\"de-de\" href=\"https://www.ibm.com/de-de\" />\\n<link rel=\"alternate\" hreflang=\"en-gh\" href=\"https://www.ibm.com/gh-en\" />\\n<link rel=\"alternate\" hreflang=\"en-gr\" href=\"https://www.ibm.com/gr-en\" />\\n<link rel=\"alternate\" hreflang=\"en-gd\" href=\"https://www.ibm.com/gd-en\" />\\n<link rel=\"alternate\" hreflang=\"en-gy\" href=\"https://www.ibm.com/gy-en\" />\\n<link rel=\"alternate\" hreflang=\"en-hk\" href=\"https://www.ibm.com/hk-en\" />\\n<link rel=\"alternate\" hreflang=\"en-hu\" href=\"https://www.ibm.com/hu-en\" />\\n<link rel=\"alternate\" hreflang=\"en-in\" href=\"https://www.ibm.com/in-en\" />\\n<link rel=\"alternate\" hreflang=\"en-id\" href=\"https://www.ibm.com/id-en\" />\\n<link rel=\"alternate\" hreflang=\"en-iq\" href=\"https://www.ibm.com/iq-en\" />\\n<link rel=\"alternate\" hreflang=\"en-ie\" href=\"https://www.ibm.com/ie-en\" />\\n<link rel=\"alternate\" hreflang=\"en-il\" href=\"https://www.ibm.com/il-en\" />\\n<link rel=\"alternate\" hreflang=\"it-it\" href=\"https://www.ibm.com/it-it\" />\\n<link rel=\"alternate\" hreflang=\"fr-ci\" href=\"https://www.ibm.com/ci-fr\" />\\n<link rel=\"alternate\" hreflang=\"en-jm\" href=\"https://www.ibm.com/jm-en\" />\\n<link rel=\"alternate\" hreflang=\"ja-jp\" href=\"https://www.ibm.com/jp-ja\" />\\n<link rel=\"alternate\" hreflang=\"en-jo\" href=\"https://www.ibm.com/jo-en\" />\\n<link rel=\"alternate\" hreflang=\"en-kz\" href=\"https://www.ibm.com/kz-en\" />\\n<link rel=\"alternate\" hreflang=\"en-ke\" href=\"https://www.ibm.com/ke-en\" />\\n<link rel=\"alternate\" hreflang=\"ko-kr\" href=\"https://www.ibm.com/kr-ko\" />\\n<link rel=\"alternate\" hreflang=\"en-kw\" href=\"https://www.ibm.com/kw-en\" />\\n<link rel=\"alternate\" hreflang=\"en-lv\" href=\"https://www.ibm.com/lv-en\" />\\n<link rel=\"alternate\" hreflang=\"en-lb\" href=\"https://www.ibm.com/lb-en\" />\\n<link rel=\"alternate\" hreflang=\"en-ly\" href=\"https://www.ibm.com/ly-en\" />\\n<link rel=\"alternate\" hreflang=\"en-lt\" href=\"https://www.ibm.com/lt-en\" />\\n<link rel=\"alternate\" hreflang=\"fr-mg\" href=\"https://www.ibm.com/mg-fr\" />\\n<link rel=\"alternate\" hreflang=\"en-mw\" href=\"https://www.ibm.com/mw-en\" />\\n<link rel=\"alternate\" hreflang=\"en-my\" href=\"https://www.ibm.com/my-en\" />\\n<link rel=\"alternate\" hreflang=\"fr-mu\" href=\"https://www.ibm.com/mu-fr\" />\\n<link rel=\"alternate\" hreflang=\"es-mx\" href=\"https://www.ibm.com/mx-es\" />\\n<link rel=\"alternate\" hreflang=\"en-ms\" href=\"https://www.ibm.com/ms-en\" />\\n<link rel=\"alternate\" hreflang=\"fr-ma\" href=\"https://www.ibm.com/ma-fr\" />\\n<link rel=\"alternate\" hreflang=\"pt-mz\" href=\"https://www.ibm.com/mz-pt\" />\\n<link rel=\"alternate\" hreflang=\"en-na\" href=\"https://www.ibm.com/na-en\" />\\n<link rel=\"alternate\" hreflang=\"en-np\" href=\"https://www.ibm.com/np-en\" />\\n<link rel=\"alternate\" hreflang=\"en-nl\" href=\"https://www.ibm.com/nl-en\" />\\n<link rel=\"alternate\" hreflang=\"en-nz\" href=\"https://www.ibm.com/nz-en\" />\\n<link rel=\"alternate\" hreflang=\"fr-ne\" href=\"https://www.ibm.com/ne-fr\" />\\n<link rel=\"alternate\" hreflang=\"en-ng\" href=\"https://www.ibm.com/ng-en\" />\\n<link rel=\"alternate\" hreflang=\"en-no\" href=\"https://www.ibm.com/no-en\" />\\n<link rel=\"alternate\" hreflang=\"en-om\" href=\"https://www.ibm.com/om-en\" />\\n<link rel=\"alternate\" hreflang=\"en-pk\" href=\"https://www.ibm.com/pk-en\" />\\n<link rel=\"alternate\" hreflang=\"es-py\" href=\"https://www.ibm.com/py-es\" />\\n<link rel=\"alternate\" hreflang=\"es-pe\" href=\"https://www.ibm.com/pe-es\" />\\n<link rel=\"alternate\" hreflang=\"en-ph\" href=\"https://www.ibm.com/ph-en\" />\\n<link rel=\"alternate\" hreflang=\"pl-pl\" href=\"https://www.ibm.com/pl-pl\" />\\n<link rel=\"alternate\" hreflang=\"en-pt\" href=\"https://www.ibm.com/pt-en\" />\\n<link rel=\"alternate\" hreflang=\"en-qa\" href=\"https://www.ibm.com/qa-en\" />\\n<link rel=\"alternate\" hreflang=\"en-ro\" href=\"https://www.ibm.com/ro-en\" />\\n<link rel=\"alternate\" hreflang=\"ru-ru\" href=\"https://www.ibm.com/ru-ru\" />\\n<link rel=\"alternate\" hreflang=\"en-kn\" href=\"https://www.ibm.com/kn-en\" />\\n<link rel=\"alternate\" hreflang=\"en-lc\" href=\"https://www.ibm.com/lc-en\" />\\n<link rel=\"alternate\" hreflang=\"en-vc\" href=\"https://www.ibm.com/vc-en\" />\\n<link rel=\"alternate\" hreflang=\"ar-sa\" href=\"https://www.ibm.com/sa-ar\" />\\n<link rel=\"alternate\" hreflang=\"en-sa\" href=\"https://www.ibm.com/sa-en\" />\\n<link rel=\"alternate\" hreflang=\"fr-sn\" href=\"https://www.ibm.com/sn-fr\" />\\n<link rel=\"alternate\" hreflang=\"en-rs\" href=\"https://www.ibm.com/rs-en\" />\\n<link rel=\"alternate\" hreflang=\"fr-sc\" href=\"https://www.ibm.com/sc-fr\" />\\n<link rel=\"alternate\" hreflang=\"en-sl\" href=\"https://www.ibm.com/sl-en\" />\\n<link rel=\"alternate\" hreflang=\"en-sg\" href=\"https://www.ibm.com/sg-en\" />\\n<link rel=\"alternate\" hreflang=\"en-sk\" href=\"https://www.ibm.com/sk-en\" />\\n<link rel=\"alternate\" hreflang=\"en-si\" href=\"https://www.ibm.com/si-en\" />\\n<link rel=\"alternate\" hreflang=\"en-za\" href=\"https://www.ibm.com/za-en\" />\\n<link rel=\"alternate\" hreflang=\"es-es\" href=\"https://www.ibm.com/es-es\" />\\n<link rel=\"alternate\" hreflang=\"en-lk\" href=\"https://www.ibm.com/lk-en\" />\\n<link rel=\"alternate\" hreflang=\"en-sr\" href=\"https://www.ibm.com/sr-en\" />\\n<link rel=\"alternate\" hreflang=\"en-se\" href=\"https://www.ibm.com/se-en\" />\\n<link rel=\"alternate\" hreflang=\"fr-ch\" href=\"https://www.ibm.com/ch-fr\" />\\n<link rel=\"alternate\" hreflang=\"de-ch\" href=\"https://www.ibm.com/ch-de\" />\\n<link rel=\"alternate\" hreflang=\"zh-tw\" href=\"https://www.ibm.com/tw-zh\" />\\n<link rel=\"alternate\" hreflang=\"en-tz\" href=\"https://www.ibm.com/tz-en\" />\\n<link rel=\"alternate\" hreflang=\"en-th\" href=\"https://www.ibm.com/th-en\" />\\n<link rel=\"alternate\" hreflang=\"en-tt\" href=\"https://www.ibm.com/tt-en\" />\\n<link rel=\"alternate\" hreflang=\"fr-tn\" href=\"https://www.ibm.com/tn-fr\" />\\n<link rel=\"alternate\" hreflang=\"tr-tr\" href=\"https://www.ibm.com/tr-tr\" />\\n<link rel=\"alternate\" hreflang=\"en-ye\" href=\"https://www.ibm.com/ye-en\" />\\n<link rel=\"alternate\" hreflang=\"en-tc\" href=\"https://www.ibm.com/tc-en\" />\\n<link rel=\"alternate\" hreflang=\"en-ua\" href=\"https://www.ibm.com/ua-en\" />\\n<link rel=\"alternate\" hreflang=\"en-ug\" href=\"https://www.ibm.com/ug-en\" />\\n<link rel=\"alternate\" hreflang=\"ar-ae\" href=\"https://www.ibm.com/ae-ar\" />\\n<link rel=\"alternate\" hreflang=\"en-ae\" href=\"https://www.ibm.com/ae-en\" />\\n<link rel=\"alternate\" hreflang=\"en-gb\" href=\"https://www.ibm.com/uk-en\" />\\n<link rel=\"alternate\" hreflang=\"es-uy\" href=\"https://www.ibm.com/uy-es\" />\\n<link rel=\"alternate\" hreflang=\"en-uz\" href=\"https://www.ibm.com/uz-en\" />\\n<link rel=\"alternate\" hreflang=\"es-ve\" href=\"https://www.ibm.com/ve-es\" />\\n<link rel=\"alternate\" hreflang=\"en-vn\" href=\"https://www.ibm.com/vn-en\" />\\n<link rel=\"alternate\" hreflang=\"en-zm\" href=\"https://www.ibm.com/zm-en\" />\\n<link rel=\"alternate\" hreflang=\"en-zw\" href=\"https://www.ibm.com/zw-en\" />\\n<link rel=\"revision\" href=\"https://www.ibm.com/in-en\" />\\n\\n    <title>IBM - India | IBM</title>\\n    <link rel=\\'dns-prefetch\\' href=\\'//1.www.s81c.com\\' />\\n<link rel=\\'preconnect\\' href=\\'//1.www.s81c.com\\' />\\n    <link href=\"//1.www.s81c.com/common/v18/drupal/css/www.css\" rel=\"preload\" as=\"style\"  />\\n    <link rel=\"stylesheet\" href=\"//1.www.s81c.com/common/v18/drupal/css/www.css\" media=\"all\" />\\n<link href=\"//1.www.s81c.com/common/v18/drupal/css/grid-fluid.css\" rel=\"preload\" as=\"style\"  />\\n<link rel=\"stylesheet\" href=\"//1.www.s81c.com/common/v18/drupal/css/grid-fluid.css\" media=\"all\" />\\n<link href=\"//1.www.s81c.com/common/v18/drupal/css/tables.css\" rel=\"preload\" as=\"style\"  />\\n<link rel=\"stylesheet\" href=\"//1.www.s81c.com/common/v18/drupal/css/tables.css\" media=\"all\" />\\n<link rel=\"preload\" href=\"//1.www.s81c.com/common/fonts/plex/v1/ibmplexsans-regular.woff2\" as=\"font\" type=\"font/woff2\" crossorigin>\\n<link rel=\"preload\" href=\"//1.www.s81c.com/common/fonts/plex/v1/ibmplexsans-regularitalic.woff2\" as=\"font\" type=\"font/woff2\" crossorigin>\\n<link rel=\"preload\" href=\"//1.www.s81c.com/common/fonts/plex/v1/ibmplexsans-semibold.woff2\" as=\"font\" type=\"font/woff2\" crossorigin>\\n<link rel=\"preload\" href=\"//1.www.s81c.com/common/fonts/icons-ibm-v12.woff\" as=\"font\" type=\"font/woff\" crossorigin>\\n<link rel=\"preload\" href=\"//1.www.s81c.com/common/fonts/plex/v1/ibmplexsans-light.woff2\" as=\"font\" type=\"font/woff2\" crossorigin>\\n    <link rel=\"stylesheet\" media=\"all\" href=\"//1.www.s81c.com/common/v19a/css/www.css\" />\\n<link rel=\"stylesheet\" media=\"all\" href=\"//1.cms.s81c.com/sites/default/files/css/css_8Iuuh6q8OQlsJgEcA69UUJNc7t0-3xTlvfXigj8-uFA.css\" />\\n<link rel=\"stylesheet\" media=\"all\" href=\"//1.cms.s81c.com/sites/default/files/css/css_85KPJRKrhmnymPvMs-oSJCI72T4_MxK5_sB_aTl-i90.css\" />\\n\\n    <script src=\"//1.www.s81c.com/common/stats/ibm-common.js\"></script>\\n<script src=\"//1.www.s81c.com/common/v18/drupal/js/www.js\" defer></script>\\n<script src=\"//1.www.s81c.com/common/carbon/plex/load-non-latin-plex.js\" defer></script>\\n<script src=\"//1.www.s81c.com/common/v19a/js/www.js\" defer></script>\\n\\n    <noscript>\\n      <link rel=\"stylesheet\" type=\"text/css\" href=\"//1.cms.s81c.com/modules/contrib/hc_fractal/dist/css/no-js.css\" />\\n    </noscript>\\n  </head>\\n  <body id=\"ibm-com\"  uuid=\"13191044-6a14-4729-9e45-bd694fad7d27\" class=\"path-node page-node-type-page-wrapper ibm-type\">\\n    \\n      <div class=\"dialog-off-canvas-main-canvas\" data-off-canvas-main-canvas>\\n    <div id=\"ibm-top\" class=\"ibm-landing-page\">\\n    <div class=\"region region-masthead\">\\n    \\n\\n    \\n    \\n\\n<div id=\"ibm-masthead\" role=\"banner\" aria-label=\"IBM\" data-mhtype=\"alternate\" class=\"simple  ibm-mhtype-alternate\">\\n  <div id=\"ibm-universal-nav\">\\n    <nav role=\"navigation\" aria-label=\"IBM\">\\n      <div id=\"ibm-home\"><a href=\"https://www.ibm.com/in/en\">IBM®</a></div>\\n                    <!-- Menu -->\\n              \\n              <ul aria-label=\"\" role=\"toolbar\" class=\"ibm-masthead-categories\">\\n\\n              </ul>\\n      \\n      <ul id=\"ibm-menu-links\" role=\"toolbar\" aria-label=\"Site map\">\\n        <li><a href=\"https://www.ibm.com/sitemap/in/en\">Site map</a></li>\\n      </ul>\\n    </nav>\\n\\n          <div id=\"ibm-search-module\" role=\"search\" aria-labelledby=\"ibm-masthead\">\\n        <form id=\"ibm-search-form\" action=\"https://www.ibm.com/Search/\" method=\"get\">\\n          <p>\\n            <label for=\"q\">IBM</label>\\n            <input type=\"text\" maxlength=\"100\" value=\"\" placeholder=Search name=\"q\" id=\"q\" aria-label=\"Search\"/>\\n            <input type=\"hidden\" value=\"18\" name=\"v\"/>\\n            <input type=\"hidden\" value=\"utf\" name=\"en\"/>\\n            <input type=\"hidden\" value=\"en\" name=\"lang\"/>\\n            <input type=\"hidden\" value=\"in\" name=\"cc\"/>\\n            <input type=\"submit\" id=\"ibm-search\" class=\"ibm-btn-search\" value=\"Submit\"/>\\n          </p>\\n        </form>\\n      </div>\\n    \\n\\n  </div> \\n  </div>\\n\\n  </div>\\n\\n  <div id=\"ibm-content-wrapper\">\\n      <header  aria-label=\"Navigation Header\">\\n        \\n\\n  </header>\\n\\n\\n\\n      <div class=\"region region-help\">\\n    <div data-drupal-messages-fallback class=\"hidden\"></div>\\n\\n  </div>\\n\\n      <div class=\"region region-content\">\\n    <div id=\"block-ibm-duo-content\">\\n  \\n    \\n      \\n\\n\\n\\n\\n\\n\\n            \\n\\n\\n\\n\\n\\n\\n  <section  role=\"article\" about=\"/in-en/node/2598576\" class=\"ibm-duo-leadspace ibm-duo-leadspace-large ibm-background-gray-10\" data-bg-lazy-load>\\n    <div class=\"ibm-grid-container ibm-duo-leadspace-large__container\">\\n      <div class=\"ibm-grid-col-sm-4-4 ibm-grid-col-md-8-4 ibm-grid-col-lg-16-6 ibm-duo-leadspace-large__content\">\\n                  <div class=\"ibm-grid-col-sm-4-3 ibm-grid-col-lg-16-12 ibm-grid-col-seamless ibm-mb-4 ibm-duo-leadspace-large__headline ani-reveal ani-fadeInUp\" data-wow-delay=\".2s\">\\n            <h1 class=\"bx--type-expressive-heading-05 bx--type-light ibm-textcolor-gray-90 ibm-pb-0 ibm-mb-0\">\\n                  <span>Let’s create security that protects your data anywhere</span>\\n\\n            </h1>\\n          </div>\\n        \\n        <div class=\"ibm-duo-leadspace-large__subhead\">\\n                      <div class=\"ibm-grid-col-sm-4-3 ibm-grid-col-lg-16-10 ibm-grid-col-xlg-16-12 ibm-grid-col-seamless ani-reveal ani-fadeInUp\" data-wow-delay=\".4s\">\\n              <p class=\"bx--type-expressive-heading-03 ibm-textcolor-gray-70 ibm-mb-0\">\\n                    <span>Powered by zero trust, you can bring security to every user, every device and every connection - every time</span>\\n\\n              </p>\\n            </div>\\n          \\n            <div class=\"ibm-btn-row ibm-button-link ibm-mt-4 ani-reveal ani-fadeInUp\" data-wow-delay=\".6s\">\\n          \\n\\n        \\n  \\n  \\n  \\n\\n\\n\\n\\n        \\n  <div class=\\'ibm-duo-button-item\\'>\\n    <a  target=\"_self\" href=\"/in-en/about/secure-your-business?lnk=hpv18l1\" class=\"ibm-btn-pri ibm-duo-btn-cta ibm-duo-u--link-icon\">\\n      Learn the zero trust approach\\n      \\n    \\n        \\n\\n                      <svg focusable=\"false\" class=\"ibm-duo-u--link-icon--arrow-right\" preserveAspectRatio=\"xMidYMid meet\" xmlns=\"http://www.w3.org/2000/svg\" fill=\"currentColor\" aria-hidden=\"true\" aria-label=\"View this link\" width=\"20\" height=\"20\" viewBox=\"0 0 20 20\" slot=\"icon\"><path d=\"M11.8 2.8L10.8 3.8 16.2 9.3 1 9.3 1 10.7 16.2 10.7 10.8 16.2 11.8 17.2 19 10z\"></path></svg>\\n          \\n    \\n    </a>\\n  </div>\\n\\n      </div>\\n  <div class=\"ibm-grid-col-sm-4-4 ani-reveal ani-fadeInUp\" data-wow-delay=\".7s\">\\n      </div>\\n\\n          \\n        </div>\\n      </div>\\n\\n      <div class=\"ibm-grid-col-sm-4-1 ibm-grid-col-md-8-0 ibm-grid-col-lg-16-2\"></div>\\n\\n      <div class=\"ibm-grid-col-sm-4-4 ibm-grid-col-md-8-4 ibm-grid-col-lg-16-8 ibm-duo-u--mt-5 ibm-duo-u--mb-5 ibm-duo-leadspace-large__media-inline\">\\n                  <figure>\\n            \\n\\n<img loading=\"lazy\" src=\"//1.cms.s81c.com/sites/default/files/2022-04/geo-security-800x800.jpg\" alt=\"Illustration of a digital safe\"\\n        class=\"\"\\n  />\\n                      </figure>\\n        \\n        \\n      </div>\\n    </div>\\n  </section>\\n\\n\\n\\n      \\n\\n\\n  \\n\\n<main role=\"main\" aria-labelledby=\"ibm-pagetitle-h1\">\\n  <div id=\"ibm-pcon\">\\n    <div id=\"ibm-content\">\\n      <div id=\"ibm-content-body\" class=\"ibm-padding-top-0\">\\n        <div id=\"ibm-content-main\">\\n          \\n                    \\n          <div class=\"node__content\">\\n                                                \\n\\n\\n\\n\\n\\n\\n  <section  role=\"article\" about=\"/in-en/node/2598600\" id=\"2598600\" class=\"ibm-duo-band ibm-duo-module-1b ibm-duo-u--pt-4 ibm-duo-u--pb-4 ibm-background-white-core\" data-bg-lazy-load>\\n    <div class=\"ibm-grid-container ibm-duo-module-1b__container\">\\n      <div class=\"ibm-grid-col-sm-4-4 ibm-grid-col-md-8-4 ibm-grid-col-lg-16-4\">\\n        \\n\\n  <div class=\"ibm-duo-heading__headline ibm-grid-col-sm-4-4 ibm-grid-col-md-8-6 ibm-grid-col-lg-16-8 ibm-grid-col-seamless ibm-mb-3 ani-reveal ani-fadeInUp\">\\n    <h2 class=\"bx--type-productive-heading-02 ibm-textcolor-gray-90 ibm-pb-0 ibm-mb-0\">\\n          <span > Inside IBM</span>\\n\\n    </h2>\\n  </div>\\n\\n\\n      </div>\\n\\n      \\n                                \\n        \\n        <div class=\"ibm-grid-col-sm-4-4 ibm-grid-col-md-8-8 ibm-grid-col-lg-16-12 ibm-grid-col-seamless\">\\n          <div class=\"ibm-duo-carousel ibm-duo-carousel__1b ani-reveal ani-fadeInUp\" data-widget=\"setsameheight\" data-always=\"true\" data-items=\".ibm-duo-card__heading\">\\n\\n          <button type=\"button\" class=\"slick-arrow slick-prev\" data-ibm-cm-avoid=\"true\">\\n      <svg focusable=\"false\" preserveAspectRatio=\"xMidYMid meet\" xmlns=\"http://www.w3.org/2000/svg\" width=\"32\" height=\"32\" viewBox=\"0 0 32 32\" aria-hidden=\"true\" aria-label=\"Show previous content\"><path d=\"m10 16l10-10l1.4 1.4l-8.6 8.6l8.6 8.6l-1.4 1.4l-10-10z\" /></svg>\\n</button>\\n\\n          \\n                      <div class=\"ibm-grid-col-sm-4-4 ibm-grid-col-md-8-4 ibm-duo-carousel__item ibm-duo-carousel-1b__item\">\\n                  \\n\\n\\n\\n\\n\\n\\n\\n\\n\\n<div class=\"ibm-card ibm-duo-card ibm-duo-card--auto-height ibm-card--noborder ibm-mb-0\">\\n\\n  \\n        \\n\\n        \\n  \\n  \\n  \\n\\n\\n\\n    <a  target=\"_self\" href=\"/in-en/analytics/data-fabric?lnk=hpv18f1\" class=\"ibm-blocklink ibm-duo-card__link ibm-duo-u--link-icon--rtl ibm-background-cool-gray-10 ibm-duo-card--hover-light\">\\n    \\n          <div class=\"ibm-card__image ibm-duo-card__image ibm-duo-u--ratio--sixteen-nine\">\\n                  \\n\\n<img loading=\"lazy\" src=\"//1.cms.s81c.com/sites/default/files/2022-04-25/Small-2022031-ls-data-driven-mobile-720x360%20%281%29.jpg\" alt=\"data driven\"\\n        class=\"\"\\n  />\\n        \\n                                                      </div>\\n    \\n    <div class=\"ibm-card__content ibm-duo-card__content\">\\n      <div class=\"ibm-grid-container ibm-pb-3\">\\n                  <div class=\"ibm-grid-col-sm-4-4 ibm-grid-col-md-8-6 ibm-grid-col-lg-16-12 ibm-duo-card__heading\">\\n            <h3 class=\"bx--type-productive-heading-02 ibm-type-semibold ibm-mb-1 ibm-textcolor-gray-90 ibm-pb-0\">\\n                  <span > Let’s create data fabric, not data silos</span>\\n\\n            </h3>\\n          </div>\\n        \\n                  <div class=\"ibm-grid-col-sm-4-4 ibm-grid-col-md-8-6 ibm-grid-col-lg-16-14 ibm-duo-card__desc\">\\n            <div class=\"ibm-card__subheading bx--type-body-short-02 ibm-mb-0 ibm-textcolor-gray-70 ibm-pb-0\">\\n                          <p>Access valuable information virtually anywhere and weave that data into virtually anything</p>\\n      \\n            </div>\\n          </div>\\n              </div>\\n    </div>\\n\\n          <div class=\"ibm-card__bottom ibm-duo-card__bottom\">\\n          <div class=\"ibm-grid-container\">\\n            <div class=\"ibm-grid-col-sm-4-4 ibm-grid-col-md-8-8 ibm-grid-col-lg-16-16\">\\n                                          \\n\\n        \\n  \\n  \\n  \\n\\n\\n\\n    <p class=\"ibm-duo-u--link-icon ibm-textcolor-blue-60\">\\n    <span class=\"ibm-textcolor-blue-60\"> Become a data-driven business</span>\\n    \\n    \\n        \\n\\n                      <svg focusable=\"false\" class=\"ibm-duo-u--link-icon--arrow-right\" preserveAspectRatio=\"xMidYMid meet\" xmlns=\"http://www.w3.org/2000/svg\" fill=\"currentColor\" aria-hidden=\"true\" aria-label=\"View this link\" width=\"20\" height=\"20\" viewBox=\"0 0 20 20\" slot=\"icon\"><path d=\"M11.8 2.8L10.8 3.8 16.2 9.3 1 9.3 1 10.7 16.2 10.7 10.8 16.2 11.8 17.2 19 10z\"></path></svg>\\n          \\n    \\n  </p>\\n\\n            </div>\\n          </div>\\n      </div>\\n    \\n  \\n  </a>\\n\\n    </div>\\n\\n\\n              </div>\\n                      <div class=\"ibm-grid-col-sm-4-4 ibm-grid-col-md-8-4 ibm-duo-carousel__item ibm-duo-carousel-1b__item\">\\n                  \\n\\n\\n\\n\\n\\n\\n\\n\\n\\n<div class=\"ibm-card ibm-duo-card ibm-duo-card--auto-height ibm-card--noborder ibm-mb-0\">\\n\\n  \\n        \\n\\n        \\n  \\n  \\n  \\n\\n\\n\\n    <a  target=\"_self\" href=\"https://www.ibm.com/it-infrastructure/us-en/resources/hybrid-multicloud-infrastructure-strategy/?lnk=hpv18f2\" class=\"ibm-blocklink ibm-duo-card__link ibm-duo-u--link-icon--rtl ibm-background-cool-gray-10 ibm-duo-card--hover-light\">\\n    \\n          <div class=\"ibm-card__image ibm-duo-card__image ibm-duo-u--ratio--sixteen-nine\">\\n                  \\n\\n<img loading=\"lazy\" src=\"//1.cms.s81c.com/sites/default/files/2022-04-04/Original-20220316-26479-Forrester-Modernize-444x320.jpg\" alt=\"hybrid cloud\"\\n        class=\"\"\\n  />\\n        \\n                                                      </div>\\n    \\n    <div class=\"ibm-card__content ibm-duo-card__content\">\\n      <div class=\"ibm-grid-container ibm-pb-3\">\\n                  <div class=\"ibm-grid-col-sm-4-4 ibm-grid-col-md-8-6 ibm-grid-col-lg-16-12 ibm-duo-card__heading\">\\n            <h3 class=\"bx--type-productive-heading-02 ibm-type-semibold ibm-mb-1 ibm-textcolor-gray-90 ibm-pb-0\">\\n                  <span > 2022 Forrester Consulting study</span>\\n\\n            </h3>\\n          </div>\\n        \\n                  <div class=\"ibm-grid-col-sm-4-4 ibm-grid-col-md-8-6 ibm-grid-col-lg-16-14 ibm-duo-card__desc\">\\n            <div class=\"ibm-card__subheading bx--type-body-short-02 ibm-mb-0 ibm-textcolor-gray-70 ibm-pb-0\">\\n                          <p>Only 21% of IT leaders surveyed are sure their current infrastructure can support growing workloads.</p>\\n      \\n            </div>\\n          </div>\\n              </div>\\n    </div>\\n\\n          <div class=\"ibm-card__bottom ibm-duo-card__bottom\">\\n          <div class=\"ibm-grid-container\">\\n            <div class=\"ibm-grid-col-sm-4-4 ibm-grid-col-md-8-8 ibm-grid-col-lg-16-16\">\\n                                          \\n\\n        \\n  \\n  \\n  \\n\\n\\n\\n    <p class=\"ibm-duo-u--link-icon ibm-textcolor-blue-60\">\\n    <span class=\"ibm-textcolor-blue-60\">Find out what 500+ IT leaders are thinking</span>\\n    \\n    \\n        \\n\\n                      <svg focusable=\"false\" class=\"ibm-duo-u--link-icon--arrow-right\" preserveAspectRatio=\"xMidYMid meet\" xmlns=\"http://www.w3.org/2000/svg\" fill=\"currentColor\" aria-hidden=\"true\" aria-label=\"View this link\" width=\"20\" height=\"20\" viewBox=\"0 0 20 20\" slot=\"icon\"><path d=\"M11.8 2.8L10.8 3.8 16.2 9.3 1 9.3 1 10.7 16.2 10.7 10.8 16.2 11.8 17.2 19 10z\"></path></svg>\\n          \\n    \\n  </p>\\n\\n            </div>\\n          </div>\\n      </div>\\n    \\n  \\n  </a>\\n\\n    </div>\\n\\n\\n              </div>\\n                      <div class=\"ibm-grid-col-sm-4-4 ibm-grid-col-md-8-4 ibm-duo-carousel__item ibm-duo-carousel-1b__item\">\\n                  \\n\\n\\n\\n\\n\\n\\n\\n\\n\\n<div class=\"ibm-card ibm-duo-card ibm-duo-card--auto-height ibm-card--noborder ibm-mb-0\">\\n\\n  \\n        \\n\\n        \\n  \\n  \\n  \\n\\n\\n\\n    <a  target=\"_self\" href=\"https://www.ibm.com/in-en/cloud/aiops/?lnk=hpv18f3\" class=\"ibm-blocklink ibm-duo-card__link ibm-duo-u--link-icon--rtl ibm-background-cool-gray-10 ibm-duo-card--hover-light\">\\n    \\n          <div class=\"ibm-card__image ibm-duo-card__image ibm-duo-u--ratio--sixteen-nine\">\\n                  \\n\\n<img loading=\"lazy\" src=\"//1.cms.s81c.com/sites/default/files/2022-04-27/20220425-ls-automation-mobile-720x360-674x674_0.jpeg\" alt=\"spools of thread\"\\n        class=\"\"\\n  />\\n        \\n                                                      </div>\\n    \\n    <div class=\"ibm-card__content ibm-duo-card__content\">\\n      <div class=\"ibm-grid-container ibm-pb-3\">\\n                  <div class=\"ibm-grid-col-sm-4-4 ibm-grid-col-md-8-6 ibm-grid-col-lg-16-12 ibm-duo-card__heading\">\\n            <h3 class=\"bx--type-productive-heading-02 ibm-type-semibold ibm-mb-1 ibm-textcolor-gray-90 ibm-pb-0\">\\n                  <span > Put your apps on autopilot</span>\\n\\n            </h3>\\n          </div>\\n        \\n                  <div class=\"ibm-grid-col-sm-4-4 ibm-grid-col-md-8-6 ibm-grid-col-lg-16-14 ibm-duo-card__desc\">\\n            <div class=\"ibm-card__subheading bx--type-body-short-02 ibm-mb-0 ibm-textcolor-gray-70 ibm-pb-0\">\\n                          <p>Companies that invest in AIOps and automation can cut costs by 50%</p>\\n      \\n            </div>\\n          </div>\\n              </div>\\n    </div>\\n\\n          <div class=\"ibm-card__bottom ibm-duo-card__bottom\">\\n          <div class=\"ibm-grid-container\">\\n            <div class=\"ibm-grid-col-sm-4-4 ibm-grid-col-md-8-8 ibm-grid-col-lg-16-16\">\\n                                          \\n\\n        \\n  \\n  \\n  \\n\\n\\n\\n    <p class=\"ibm-duo-u--link-icon ibm-textcolor-blue-60\">\\n    <span class=\"ibm-textcolor-blue-60\">See how you can accelerate your digital transformation</span>\\n    \\n    \\n        \\n\\n                      <svg focusable=\"false\" class=\"ibm-duo-u--link-icon--arrow-right\" preserveAspectRatio=\"xMidYMid meet\" xmlns=\"http://www.w3.org/2000/svg\" fill=\"currentColor\" aria-hidden=\"true\" aria-label=\"View this link\" width=\"20\" height=\"20\" viewBox=\"0 0 20 20\" slot=\"icon\"><path d=\"M11.8 2.8L10.8 3.8 16.2 9.3 1 9.3 1 10.7 16.2 10.7 10.8 16.2 11.8 17.2 19 10z\"></path></svg>\\n          \\n    \\n  </p>\\n\\n            </div>\\n          </div>\\n      </div>\\n    \\n  \\n  </a>\\n\\n    </div>\\n\\n\\n              </div>\\n                      <div class=\"ibm-grid-col-sm-4-4 ibm-grid-col-md-8-4 ibm-duo-carousel__item ibm-duo-carousel-1b__item\">\\n                  \\n\\n\\n\\n\\n\\n\\n\\n\\n\\n<div class=\"ibm-card ibm-duo-card ibm-duo-card--auto-height ibm-card--noborder ibm-mb-0\">\\n\\n  \\n        \\n\\n        \\n  \\n  \\n  \\n\\n\\n\\n    <a  target=\"_blank\" href=\"https://www.ibm.com/cloud/in-en/campaign/cloud-simplicity/?lnk=hpv18f4\" class=\"ibm-blocklink ibm-duo-card__link ibm-duo-u--link-icon--rtl ibm-background-cool-gray-10 ibm-duo-card--hover-light\">\\n    \\n          <div class=\"ibm-card__image ibm-duo-card__image ibm-duo-u--ratio--sixteen-nine\">\\n                  \\n\\n<img loading=\"lazy\" src=\"//1.cms.s81c.com/sites/default/files/2022-04-27/cloud-five-levers-444x254%20%281%29.jpg\" alt=\"Two employee looking at the computer\"\\n        class=\"\"\\n  />\\n        \\n                                                      </div>\\n    \\n    <div class=\"ibm-card__content ibm-duo-card__content\">\\n      <div class=\"ibm-grid-container ibm-pb-3\">\\n                  <div class=\"ibm-grid-col-sm-4-4 ibm-grid-col-md-8-6 ibm-grid-col-lg-16-12 ibm-duo-card__heading\">\\n            <h3 class=\"bx--type-productive-heading-02 ibm-type-semibold ibm-mb-1 ibm-textcolor-gray-90 ibm-pb-0\">\\n                  <span > Simplify your infrastructure</span>\\n\\n            </h3>\\n          </div>\\n        \\n                  <div class=\"ibm-grid-col-sm-4-4 ibm-grid-col-md-8-6 ibm-grid-col-lg-16-14 ibm-duo-card__desc\">\\n            <div class=\"ibm-card__subheading bx--type-body-short-02 ibm-mb-0 ibm-textcolor-gray-70 ibm-pb-0\">\\n                          <p>Most decision makers think IT is more complex today than two years ago</p>\\n      \\n            </div>\\n          </div>\\n              </div>\\n    </div>\\n\\n          <div class=\"ibm-card__bottom ibm-duo-card__bottom\">\\n          <div class=\"ibm-grid-container\">\\n            <div class=\"ibm-grid-col-sm-4-4 ibm-grid-col-md-8-8 ibm-grid-col-lg-16-16\">\\n                                          \\n\\n        \\n  \\n  \\n  \\n\\n\\n\\n    <p class=\"ibm-duo-u--link-icon ibm-textcolor-blue-60\">\\n    <span class=\"ibm-textcolor-blue-60\">Navigate the new rules of modern business with a partner you trust</span>\\n    \\n    \\n        \\n\\n                      <svg focusable=\"false\" class=\"ibm-duo-u--link-icon--arrow-right\" preserveAspectRatio=\"xMidYMid meet\" xmlns=\"http://www.w3.org/2000/svg\" fill=\"currentColor\" aria-hidden=\"true\" aria-label=\"View this link\" width=\"20\" height=\"20\" viewBox=\"0 0 20 20\" slot=\"icon\"><path d=\"M11.8 2.8L10.8 3.8 16.2 9.3 1 9.3 1 10.7 16.2 10.7 10.8 16.2 11.8 17.2 19 10z\"></path></svg>\\n          \\n    \\n  </p>\\n\\n            </div>\\n          </div>\\n      </div>\\n    \\n  \\n  </a>\\n\\n    </div>\\n\\n\\n              </div>\\n          \\n            <span class=\"ibm-duo-carousel__counter ibm-duo-carousel__counter--4 bx--type-body-long-01 ibm-mb-1 ibm-textcolor-gray-90\"></span>\\n\\n            <button type=\"button\" class=\"slick-arrow slick-next\" data-ibm-cm-avoid=\"true\">\\n      <svg focusable=\"false\" preserveAspectRatio=\"xMidYMid meet\" xmlns=\"http://www.w3.org/2000/svg\" width=\"32\" height=\"32\" viewBox=\"0 0 32 32\" aria-hidden=\"true\" aria-label=\"Show next content\"><polygon points=\"22,16 12,26 10.6,24.6 19.2,16 10.6,7.4 12,6\"></polygon></svg>\\n</button>\\n          </div>\\n        </div>\\n      \\n    </div>\\n  </section>\\n\\n              \\n\\n\\n\\n\\n\\n\\n  <section  role=\"article\" about=\"/in-en/node/2598712\" id=\"2598712\" class=\"ibm-duo-band ibm-duo-module-1b ibm-duo-u--pt-4 ibm-duo-u--pb-4 ibm-background-cool-gray-10\" data-bg-lazy-load>\\n    <div class=\"ibm-grid-container ibm-duo-module-1b__container\">\\n      <div class=\"ibm-grid-col-sm-4-4 ibm-grid-col-md-8-4 ibm-grid-col-lg-16-4\">\\n        \\n\\n  <div class=\"ibm-duo-heading__headline ibm-grid-col-sm-4-4 ibm-grid-col-md-8-6 ibm-grid-col-lg-16-8 ibm-grid-col-seamless ibm-mb-3 ani-reveal ani-fadeInUp\">\\n    <h2 class=\"bx--type-productive-heading-02 ibm-textcolor-gray-90 ibm-pb-0 ibm-mb-0\">\\n          <span > Explore product trials and offers</span>\\n\\n    </h2>\\n  </div>\\n\\n\\n  <div class=\"ibm-duo-heading__cta ibm-grid-col-sm-4-4 ibm-grid-col-md-8-8 ibm-grid-col-lg-16-15 ibm-grid-col-seamless ibm-mt-3 ibm-mb-3 ani-reveal ani-fadeInUp\">\\n          \\n\\n        \\n  \\n  \\n  \\n\\n\\n\\n  \\n  \\n  <p class=\\'ibm-mb-0 ibm-duo-u--pr-2 ibm-pb-1\\'>\\n    <a  target=\"_self\" href=\"/in-en/products/offers-and-discounts?lnk=hpv18t5\" class=\"ibm-duo-u--link-icon ibm-textcolor-blue-60 ibm-duo-u--link-icon--rtl\">\\n      <span>See current deals</span>\\n      \\n    \\n        \\n\\n                      <svg focusable=\"false\" class=\"ibm-duo-u--link-icon--arrow-right\" preserveAspectRatio=\"xMidYMid meet\" xmlns=\"http://www.w3.org/2000/svg\" fill=\"currentColor\" aria-hidden=\"true\" aria-label=\"View this link\" width=\"20\" height=\"20\" viewBox=\"0 0 20 20\" slot=\"icon\"><path d=\"M11.8 2.8L10.8 3.8 16.2 9.3 1 9.3 1 10.7 16.2 10.7 10.8 16.2 11.8 17.2 19 10z\"></path></svg>\\n          \\n    \\n    </a>\\n  </p>\\n\\n\\n      </div>\\n      </div>\\n\\n      \\n                                \\n        \\n        <div class=\"ibm-grid-col-sm-4-4 ibm-grid-col-md-8-8 ibm-grid-col-lg-16-12 ibm-grid-col-seamless\">\\n          <div class=\"ibm-duo-carousel ibm-duo-carousel__1b ani-reveal ani-fadeInUp\" data-widget=\"setsameheight\" data-always=\"true\" data-items=\".ibm-duo-card__heading\">\\n\\n          <button type=\"button\" class=\"slick-arrow slick-prev\" data-ibm-cm-avoid=\"true\">\\n      <svg focusable=\"false\" preserveAspectRatio=\"xMidYMid meet\" xmlns=\"http://www.w3.org/2000/svg\" width=\"32\" height=\"32\" viewBox=\"0 0 32 32\" aria-hidden=\"true\" aria-label=\"Show previous content\"><path d=\"m10 16l10-10l1.4 1.4l-8.6 8.6l8.6 8.6l-1.4 1.4l-10-10z\" /></svg>\\n</button>\\n\\n          \\n                      <div class=\"ibm-grid-col-sm-4-4 ibm-grid-col-md-8-4 ibm-duo-carousel__item ibm-duo-carousel-1b__item\">\\n                  \\n\\n\\n\\n\\n\\n\\n\\n\\n\\n<div class=\"ibm-card ibm-duo-card ibm-duo-card--auto-height ibm-card--noborder ibm-mb-0\">\\n\\n  \\n        \\n\\n        \\n  \\n  \\n  \\n\\n\\n\\n    <a  target=\"_self\" href=\"/in-en/products/maximo?lnk=hpv18t1&amp;psrc=NONE&amp;pexp=DEF&amp;lnk2=maas360\" class=\"ibm-blocklink ibm-duo-card__link ibm-duo-u--link-icon--rtl ibm-background-white-core ibm-duo-card--hover-light\">\\n    \\n          <div class=\"ibm-card__image ibm-duo-card__image ibm-duo-u--ratio--sixteen-nine\">\\n                  \\n\\n<img loading=\"lazy\" src=\"//1.cms.s81c.com/sites/default/files/2022-03-28/Maximo.png\" alt=\"Maximo screenshot\"\\n        class=\"\"\\n  />\\n        \\n                                                      </div>\\n    \\n    <div class=\"ibm-card__content ibm-duo-card__content\">\\n      <div class=\"ibm-grid-container ibm-pb-3\">\\n                  <div class=\"ibm-grid-col-sm-4-4 ibm-grid-col-md-8-6 ibm-grid-col-lg-16-12 ibm-duo-card__heading\">\\n            <h3 class=\"bx--type-productive-heading-02 ibm-type-semibold ibm-mb-1 ibm-textcolor-gray-90 ibm-pb-0\">\\n                  <span > IBM Maximo Application Suite</span>\\n\\n            </h3>\\n          </div>\\n        \\n                  <div class=\"ibm-grid-col-sm-4-4 ibm-grid-col-md-8-6 ibm-grid-col-lg-16-14 ibm-duo-card__desc\">\\n            <div class=\"ibm-card__subheading bx--type-body-short-02 ibm-mb-0 ibm-textcolor-gray-70 ibm-pb-0\">\\n                          <p>Keep critical assets operating efficiently with the power of IoT data</p>\\n      \\n            </div>\\n          </div>\\n              </div>\\n    </div>\\n\\n          <div class=\"ibm-card__bottom ibm-duo-card__bottom\">\\n          <div class=\"ibm-grid-container\">\\n            <div class=\"ibm-grid-col-sm-4-4 ibm-grid-col-md-8-8 ibm-grid-col-lg-16-16\">\\n                                          \\n\\n        \\n  \\n  \\n  \\n\\n\\n\\n    <p class=\"ibm-duo-u--link-icon ibm-textcolor-blue-60\">\\n    <span class=\"ibm-textcolor-blue-60\">Take the tour</span>\\n    \\n    \\n        \\n\\n                      <svg focusable=\"false\" class=\"ibm-duo-u--link-icon--arrow-right\" preserveAspectRatio=\"xMidYMid meet\" xmlns=\"http://www.w3.org/2000/svg\" fill=\"currentColor\" aria-hidden=\"true\" aria-label=\"View this link\" width=\"20\" height=\"20\" viewBox=\"0 0 20 20\" slot=\"icon\"><path d=\"M11.8 2.8L10.8 3.8 16.2 9.3 1 9.3 1 10.7 16.2 10.7 10.8 16.2 11.8 17.2 19 10z\"></path></svg>\\n          \\n    \\n  </p>\\n\\n            </div>\\n          </div>\\n      </div>\\n    \\n  \\n  </a>\\n\\n    </div>\\n\\n\\n              </div>\\n                      <div class=\"ibm-grid-col-sm-4-4 ibm-grid-col-md-8-4 ibm-duo-carousel__item ibm-duo-carousel-1b__item\">\\n                  \\n\\n\\n\\n\\n\\n\\n\\n\\n\\n<div class=\"ibm-card ibm-duo-card ibm-duo-card--auto-height ibm-card--noborder ibm-mb-0\">\\n\\n  \\n        \\n\\n        \\n  \\n  \\n  \\n\\n\\n\\n    <a  target=\"_blank\" href=\"/in-en/qradar?lnk=hpv18t2&amp;psrc=NONE&amp;lnk2=trial_Qradar&amp;pexp=DEF\" class=\"ibm-blocklink ibm-duo-card__link ibm-duo-u--link-icon--rtl ibm-background-white-core ibm-duo-card--hover-light\">\\n    \\n          <div class=\"ibm-card__image ibm-duo-card__image ibm-duo-u--ratio--sixteen-nine\">\\n                  \\n\\n<img loading=\"lazy\" src=\"//1.cms.s81c.com/sites/default/files/2021-10-25/QRadar-on-Cloud-21400-700x420.png\" alt=\"qradar\"\\n        class=\"\"\\n  />\\n        \\n                                                      </div>\\n    \\n    <div class=\"ibm-card__content ibm-duo-card__content\">\\n      <div class=\"ibm-grid-container ibm-pb-3\">\\n                  <div class=\"ibm-grid-col-sm-4-4 ibm-grid-col-md-8-6 ibm-grid-col-lg-16-12 ibm-duo-card__heading\">\\n            <h3 class=\"bx--type-productive-heading-02 ibm-type-semibold ibm-mb-1 ibm-textcolor-gray-90 ibm-pb-0\">\\n                  <span > IBM Security QRadar XDR</span>\\n\\n            </h3>\\n          </div>\\n        \\n                  <div class=\"ibm-grid-col-sm-4-4 ibm-grid-col-md-8-6 ibm-grid-col-lg-16-14 ibm-duo-card__desc\">\\n            <div class=\"ibm-card__subheading bx--type-body-short-02 ibm-mb-0 ibm-textcolor-gray-70 ibm-pb-0\">\\n                          <p>Intelligent security analytics for insight into your most critical threats.</p>\\n      \\n            </div>\\n          </div>\\n              </div>\\n    </div>\\n\\n          <div class=\"ibm-card__bottom ibm-duo-card__bottom\">\\n          <div class=\"ibm-grid-container\">\\n            <div class=\"ibm-grid-col-sm-4-4 ibm-grid-col-md-8-8 ibm-grid-col-lg-16-16\">\\n                                          \\n\\n        \\n  \\n  \\n  \\n\\n\\n\\n    <p class=\"ibm-duo-u--link-icon ibm-textcolor-blue-60\">\\n    <span class=\"ibm-textcolor-blue-60\">Start your QRadar SIEM trial</span>\\n    \\n    \\n        \\n\\n                      <svg focusable=\"false\" class=\"ibm-duo-u--link-icon--arrow-right\" preserveAspectRatio=\"xMidYMid meet\" xmlns=\"http://www.w3.org/2000/svg\" fill=\"currentColor\" aria-hidden=\"true\" aria-label=\"View this link\" width=\"20\" height=\"20\" viewBox=\"0 0 20 20\" slot=\"icon\"><path d=\"M11.8 2.8L10.8 3.8 16.2 9.3 1 9.3 1 10.7 16.2 10.7 10.8 16.2 11.8 17.2 19 10z\"></path></svg>\\n          \\n    \\n  </p>\\n\\n            </div>\\n          </div>\\n      </div>\\n    \\n  \\n  </a>\\n\\n    </div>\\n\\n\\n              </div>\\n                      <div class=\"ibm-grid-col-sm-4-4 ibm-grid-col-md-8-4 ibm-duo-carousel__item ibm-duo-carousel-1b__item\">\\n                  \\n\\n\\n\\n\\n\\n\\n\\n\\n\\n<div class=\"ibm-card ibm-duo-card ibm-duo-card--auto-height ibm-card--noborder ibm-mb-0\">\\n\\n  \\n        \\n\\n        \\n  \\n  \\n  \\n\\n\\n\\n    <a  target=\"_self\" href=\"/in-en/products/cloud-pak-for-data?lnk=hpv18t3&amp;psrc=NONE&amp;pexp=DEF&amp;lnk2=trial_CloudPakData\" class=\"ibm-blocklink ibm-duo-card__link ibm-duo-u--link-icon--rtl ibm-background-white-core ibm-duo-card--hover-light\">\\n    \\n          <div class=\"ibm-card__image ibm-duo-card__image ibm-duo-u--ratio--sixteen-nine\">\\n                  \\n\\n<img loading=\"lazy\" src=\"//1.cms.s81c.com/sites/default/files/2021-04-07/cloud-pak-for-data-trial.png\" alt=\"Cloud pak for data screenshot\"\\n        class=\"\"\\n  />\\n        \\n                                                      </div>\\n    \\n    <div class=\"ibm-card__content ibm-duo-card__content\">\\n      <div class=\"ibm-grid-container ibm-pb-3\">\\n                  <div class=\"ibm-grid-col-sm-4-4 ibm-grid-col-md-8-6 ibm-grid-col-lg-16-12 ibm-duo-card__heading\">\\n            <h3 class=\"bx--type-productive-heading-02 ibm-type-semibold ibm-mb-1 ibm-textcolor-gray-90 ibm-pb-0\">\\n                  <span > IBM Cloud Pak for Data</span>\\n\\n            </h3>\\n          </div>\\n        \\n                  <div class=\"ibm-grid-col-sm-4-4 ibm-grid-col-md-8-6 ibm-grid-col-lg-16-14 ibm-duo-card__desc\">\\n            <div class=\"ibm-card__subheading bx--type-body-short-02 ibm-mb-0 ibm-textcolor-gray-70 ibm-pb-0\">\\n                          <p>Accelerate your journey to AI with a cloud‑native data platform.</p>\\n      \\n            </div>\\n          </div>\\n              </div>\\n    </div>\\n\\n          <div class=\"ibm-card__bottom ibm-duo-card__bottom\">\\n          <div class=\"ibm-grid-container\">\\n            <div class=\"ibm-grid-col-sm-4-4 ibm-grid-col-md-8-8 ibm-grid-col-lg-16-16\">\\n                                          \\n\\n        \\n  \\n  \\n  \\n\\n\\n\\n    <p class=\"ibm-duo-u--link-icon ibm-textcolor-blue-60\">\\n    <span class=\"ibm-textcolor-blue-60\">Try it now</span>\\n    \\n    \\n        \\n\\n                      <svg focusable=\"false\" class=\"ibm-duo-u--link-icon--arrow-right\" preserveAspectRatio=\"xMidYMid meet\" xmlns=\"http://www.w3.org/2000/svg\" fill=\"currentColor\" aria-hidden=\"true\" aria-label=\"View this link\" width=\"20\" height=\"20\" viewBox=\"0 0 20 20\" slot=\"icon\"><path d=\"M11.8 2.8L10.8 3.8 16.2 9.3 1 9.3 1 10.7 16.2 10.7 10.8 16.2 11.8 17.2 19 10z\"></path></svg>\\n          \\n    \\n  </p>\\n\\n            </div>\\n          </div>\\n      </div>\\n    \\n  \\n  </a>\\n\\n    </div>\\n\\n\\n              </div>\\n                      <div class=\"ibm-grid-col-sm-4-4 ibm-grid-col-md-8-4 ibm-duo-carousel__item ibm-duo-carousel-1b__item\">\\n                  \\n\\n\\n\\n\\n\\n\\n\\n\\n\\n<div class=\"ibm-card ibm-duo-card ibm-duo-card--auto-height ibm-card--noborder ibm-mb-0\">\\n\\n  \\n        \\n\\n        \\n  \\n  \\n  \\n\\n\\n\\n    <a  target=\"_self\" href=\"/in-en/cloud/free?lnk=hpv18t4&amp;psrc=NONE&amp;pexp=DEF&amp;lnk2=trial_Cloud\" class=\"ibm-blocklink ibm-duo-card__link ibm-duo-u--link-icon--rtl ibm-background-white-core ibm-duo-card--hover-light\">\\n    \\n          <div class=\"ibm-card__image ibm-duo-card__image ibm-duo-u--ratio--sixteen-nine\">\\n                  \\n\\n<img loading=\"lazy\" src=\"//1.cms.s81c.com/sites/default/files/2021-04-07/ibm-cloud-trial.png\" alt=\"screenshot of the IBM Cloud dashboard\"\\n        class=\"\"\\n  />\\n        \\n                                                      </div>\\n    \\n    <div class=\"ibm-card__content ibm-duo-card__content\">\\n      <div class=\"ibm-grid-container ibm-pb-3\">\\n                  <div class=\"ibm-grid-col-sm-4-4 ibm-grid-col-md-8-6 ibm-grid-col-lg-16-12 ibm-duo-card__heading\">\\n            <h3 class=\"bx--type-productive-heading-02 ibm-type-semibold ibm-mb-1 ibm-textcolor-gray-90 ibm-pb-0\">\\n                  <span > IBM Cloud free tier</span>\\n\\n            </h3>\\n          </div>\\n        \\n                  <div class=\"ibm-grid-col-sm-4-4 ibm-grid-col-md-8-6 ibm-grid-col-lg-16-14 ibm-duo-card__desc\">\\n            <div class=\"ibm-card__subheading bx--type-body-short-02 ibm-mb-0 ibm-textcolor-gray-70 ibm-pb-0\">\\n                          <p>Capture the true value of cloud and AI for your business.\\xa0</p>\\n      \\n            </div>\\n          </div>\\n              </div>\\n    </div>\\n\\n          <div class=\"ibm-card__bottom ibm-duo-card__bottom\">\\n          <div class=\"ibm-grid-container\">\\n            <div class=\"ibm-grid-col-sm-4-4 ibm-grid-col-md-8-8 ibm-grid-col-lg-16-16\">\\n                                          \\n\\n        \\n  \\n  \\n  \\n\\n\\n\\n    <p class=\"ibm-duo-u--link-icon ibm-textcolor-blue-60\">\\n    <span class=\"ibm-textcolor-blue-60\">Create your free account</span>\\n    \\n    \\n        \\n\\n                      <svg focusable=\"false\" class=\"ibm-duo-u--link-icon--arrow-right\" preserveAspectRatio=\"xMidYMid meet\" xmlns=\"http://www.w3.org/2000/svg\" fill=\"currentColor\" aria-hidden=\"true\" aria-label=\"View this link\" width=\"20\" height=\"20\" viewBox=\"0 0 20 20\" slot=\"icon\"><path d=\"M11.8 2.8L10.8 3.8 16.2 9.3 1 9.3 1 10.7 16.2 10.7 10.8 16.2 11.8 17.2 19 10z\"></path></svg>\\n          \\n    \\n  </p>\\n\\n            </div>\\n          </div>\\n      </div>\\n    \\n  \\n  </a>\\n\\n    </div>\\n\\n\\n              </div>\\n                      <div class=\"ibm-grid-col-sm-4-4 ibm-grid-col-md-8-4 ibm-duo-carousel__item ibm-duo-carousel-1b__item\">\\n                  \\n\\n\\n\\n\\n\\n\\n\\n\\n\\n<div class=\"ibm-card ibm-duo-card ibm-duo-card--auto-height ibm-card--noborder ibm-mb-0\">\\n\\n  \\n        \\n\\n        \\n  \\n  \\n  \\n\\n\\n\\n    <a  target=\"_blank\" href=\"/in-en/cloud/watson-assistant?lnk=hpv18t4&amp;psrc=NONE&amp;lnk2=trial_AsperaCloud&amp;pexp=DEF\" class=\"ibm-blocklink ibm-duo-card__link ibm-duo-u--link-icon--rtl ibm-background-white-core ibm-duo-card--hover-light\">\\n    \\n          <div class=\"ibm-card__image ibm-duo-card__image ibm-duo-u--ratio--sixteen-nine\">\\n                  \\n\\n<img loading=\"lazy\" src=\"//1.cms.s81c.com/sites/default/files/2021-08-17/Watson-Assistant-23212-700x420.png\" alt=\"screenshot of watson assistant\"\\n        class=\"\"\\n  />\\n        \\n                                                      </div>\\n    \\n    <div class=\"ibm-card__content ibm-duo-card__content\">\\n      <div class=\"ibm-grid-container ibm-pb-3\">\\n                  <div class=\"ibm-grid-col-sm-4-4 ibm-grid-col-md-8-6 ibm-grid-col-lg-16-12 ibm-duo-card__heading\">\\n            <h3 class=\"bx--type-productive-heading-02 ibm-type-semibold ibm-mb-1 ibm-textcolor-gray-90 ibm-pb-0\">\\n                  <span > IBM Watson Assistant</span>\\n\\n            </h3>\\n          </div>\\n        \\n                  <div class=\"ibm-grid-col-sm-4-4 ibm-grid-col-md-8-6 ibm-grid-col-lg-16-14 ibm-duo-card__desc\">\\n            <div class=\"ibm-card__subheading bx--type-body-short-02 ibm-mb-0 ibm-textcolor-gray-70 ibm-pb-0\">\\n                          <p>Help your customers on any channel with AI-powered chat and voice</p>\\n      \\n            </div>\\n          </div>\\n              </div>\\n    </div>\\n\\n          <div class=\"ibm-card__bottom ibm-duo-card__bottom\">\\n          <div class=\"ibm-grid-container\">\\n            <div class=\"ibm-grid-col-sm-4-4 ibm-grid-col-md-8-8 ibm-grid-col-lg-16-16\">\\n                                          \\n\\n        \\n  \\n  \\n  \\n\\n\\n\\n    <p class=\"ibm-duo-u--link-icon ibm-textcolor-blue-60\">\\n    <span class=\"ibm-textcolor-blue-60\">Get started free</span>\\n    \\n    \\n        \\n\\n                      <svg focusable=\"false\" class=\"ibm-duo-u--link-icon--arrow-right\" preserveAspectRatio=\"xMidYMid meet\" xmlns=\"http://www.w3.org/2000/svg\" fill=\"currentColor\" aria-hidden=\"true\" aria-label=\"View this link\" width=\"20\" height=\"20\" viewBox=\"0 0 20 20\" slot=\"icon\"><path d=\"M11.8 2.8L10.8 3.8 16.2 9.3 1 9.3 1 10.7 16.2 10.7 10.8 16.2 11.8 17.2 19 10z\"></path></svg>\\n          \\n    \\n  </p>\\n\\n            </div>\\n          </div>\\n      </div>\\n    \\n  \\n  </a>\\n\\n    </div>\\n\\n\\n              </div>\\n          \\n            <span class=\"ibm-duo-carousel__counter ibm-duo-carousel__counter--5 bx--type-body-long-01 ibm-mb-1 ibm-textcolor-gray-90\"></span>\\n\\n            <button type=\"button\" class=\"slick-arrow slick-next\" data-ibm-cm-avoid=\"true\">\\n      <svg focusable=\"false\" preserveAspectRatio=\"xMidYMid meet\" xmlns=\"http://www.w3.org/2000/svg\" width=\"32\" height=\"32\" viewBox=\"0 0 32 32\" aria-hidden=\"true\" aria-label=\"Show next content\"><polygon points=\"22,16 12,26 10.6,24.6 19.2,16 10.6,7.4 12,6\"></polygon></svg>\\n</button>\\n          </div>\\n        </div>\\n      \\n    </div>\\n  </section>\\n\\n              \\n\\n  \\n\\n\\n\\n\\n\\n  <section  role=\"article\" about=\"/in-en/node/3070030\" id=\"3070030\" class=\"ibm-duo-band ibm-duo-module-12a ibm-background-gray-100 ibm-duo-u--gradient ibm-duo-u--gradient--cloud\" data-bg-lazy-load>\\n    \\n                      \\n\\n  \\n\\n\\n\\n\\n\\n<div class=\"ibm-grid-container ibm-duo-u--pt-4 ibm-duo-u--pb-4 \">\\n  <div class=\"ibm-grid-col-sm-4-4 ibm-grid-col-md-8-6 ibm-grid-col-lg-16-8 ibm-duo-module-12a__content\">\\n    \\n          <div class=\"ibm-duo-module-12a__subhead ibm-textcolor-gray-10\">\\n                    <p><em><strong>News:</strong> IBM condemns the war in Ukraine and has suspended all business in Russia. Read the message from CEO Arvind Krishna.</em></p>\\n      \\n      </div>\\n    \\n      </div>\\n\\n  \\n    <div class=\"ibm-grid-col-sm-4-0 ibm-grid-col-md-8-2 ibm-grid-col-lg-16-4\"></div>\\n          <div class=\"ibm-grid-col-sm-4-4 ibm-grid-col-md-8-4 ibm-grid-col-lg-16-4 ibm-duo-module-12a__cta ani-reveal ani-fadeInUp\">\\n                  \\n\\n        \\n  \\n  \\n  \\n\\n\\n\\n\\n        \\n  <div class=\\'ibm-duo-button-item\\'>\\n    <a  target=\"_blank\" href=\"https://newsroom.ibm.com/Update-on-our-actions-War-in-Ukraine?lnk=hpv18n1\" class=\"ibm-btn-pri ibm-duo-btn-cta ibm-duo-u--link-icon\">\\n      Read the news\\n      \\n    \\n        \\n\\n                      <svg focusable=\"false\" class=\"ibm-duo-u--link-icon--arrow-right\" preserveAspectRatio=\"xMidYMid meet\" xmlns=\"http://www.w3.org/2000/svg\" fill=\"currentColor\" aria-hidden=\"true\" aria-label=\"View this link\" width=\"20\" height=\"20\" viewBox=\"0 0 20 20\" slot=\"icon\"><path d=\"M11.8 2.8L10.8 3.8 16.2 9.3 1 9.3 1 10.7 16.2 10.7 10.8 16.2 11.8 17.2 19 10z\"></path></svg>\\n          \\n    \\n    </a>\\n  </div>\\n\\n              </div>\\n      </div>\\n\\n\\n              </section>\\n\\n              \\n\\n\\n\\n\\n\\n\\n  <section  role=\"article\" about=\"/in-en/node/2725178\" id=\"2725178\" class=\"ibm-duo-band ibm-duo-module-2b ibm-duo-u--pt-4 ibm-duo-u--pb-4 ibm-background-white-core\" data-bg-lazy-load>\\n    <div class=\"ibm-grid-container ibm-duo-module-2b__container\">\\n\\n      <div class=\"ibm-grid-col-sm-4-4 ibm-grid-col-md-8-4 ibm-grid-col-lg-16-4\">\\n        \\n\\n  <div class=\"ibm-duo-heading__headline ibm-grid-col-sm-4-4 ibm-grid-col-md-8-6 ibm-grid-col-lg-16-8 ibm-grid-col-seamless ibm-mb-3 ani-reveal ani-fadeInUp\">\\n    <h2 class=\"bx--type-productive-heading-02 ibm-textcolor-gray-90 ibm-pb-0 ibm-mb-0\">\\n          <span > Explore popular and trending technologies</span>\\n\\n    </h2>\\n  </div>\\n\\n\\n      </div>\\n\\n      \\n                                          \\n        \\n        <div class=\"ibm-grid-col-sm-4-4 ibm-grid-col-md-8-8 ibm-grid-col-lg-16-12 ibm-grid-col-seamless\">\\n          <div class=\"ibm-duo-carousel ibm-duo-carousel__2b ani-reveal ani-fadeInUp\" data-widget=\"setsameheight\" data-always=\"true\" data-items=\".ibm-duo-card__heading\">\\n\\n                          <button type=\"button\" class=\"slick-arrow slick-prev\" data-ibm-cm-avoid=\"true\">\\n      <svg focusable=\"false\" preserveAspectRatio=\"xMidYMid meet\" xmlns=\"http://www.w3.org/2000/svg\" width=\"32\" height=\"32\" viewBox=\"0 0 32 32\" aria-hidden=\"true\" aria-label=\"Show previous content\"><path d=\"m10 16l10-10l1.4 1.4l-8.6 8.6l8.6 8.6l-1.4 1.4l-10-10z\" /></svg>\\n</button>\\n            \\n            \\n                          <div class=\"ibm-grid-col-sm-4-4 ibm-grid-col-md-8-4 ibm-duo-carousel__item ibm-duo-carousel-2b__item\">\\n                    \\n\\n\\n\\n\\n\\n<div class=\"ibm-card ibm-duo-card ibm-card--noborder ibm-mb-0\">\\n\\n  \\n      <div class=\"ibm-blocklink ibm-duo-card__link ibm-background-cool-gray-10\">\\n          <div class=\"ibm-card__content ibm-duo-card__content\">\\n      <div class=\"ibm-grid-container\">\\n        <div class=\"ibm-grid-col-sm-4-4 ibm-grid-col-md-8-7 ibm-grid-col-lg-16-14 ibm-pb-4\">\\n          \\n          \\n          \\n                      <div class=\"bx--type-body-long-02 ibm-textcolor-gray-70 ibm-mb-3 ibm-duo-card__desc\">\\n                          <p><strong>Tools for developers\\xa0</strong><br />\\n\\xa0</p>\\n\\n<ul><li><a href=\"https://developer.ibm.com/?lnk=hpv18pd1\">IBM Developer</a></li>\\n\\t<li><a href=\"https://developer.ibm.com/depmodels/cloud/?lnk=hpv18pd2\">Cloud</a></li>\\n\\t<li><a href=\"https://developer.ibm.com/technologies/artificial-intelligence?lnk=hpv18pd3\">Artificial intelligence</a></li>\\n\\t<li><a href=\"https://developer.ibm.com/articles?lnk=hpv18pd4\">Technical articles</a></li>\\n\\t<li><a href=\"https://www.ibm.com/docs/en?lnk=hpv18pd5\">Documentation</a></li>\\n\\t<li><a href=\"https://www.ibm.com/training/?lnk=hpv18pd6\">Training and Skills</a></li>\\n\\t<li><a href=\"https://developer.ibm.com/patterns/?lnk=hpv18pd7\">Code patterns</a></li>\\n\\t<li><a href=\"https://developer.ibm.com/tutorials/?lnk=hpv18pd8\">Tutorials</a></li>\\n\\t<li><a href=\"https://www.redbooks.ibm.com/?lnk=hpv18pd9\">Redbooks</a></li>\\n\\t<li><a href=\"https://www.ibm.com/support/home/?lnk=hpv18pd10\">Support</a></li>\\n</ul>\\n      \\n            </div>\\n                  </div>\\n      </div>\\n    </div>\\n\\n      \\n    </div>\\n  </div>\\n\\n\\n                </div>\\n                          <div class=\"ibm-grid-col-sm-4-4 ibm-grid-col-md-8-4 ibm-duo-carousel__item ibm-duo-carousel-2b__item\">\\n                    \\n\\n\\n\\n\\n\\n<div class=\"ibm-card ibm-duo-card ibm-card--noborder ibm-mb-0\">\\n\\n  \\n      <div class=\"ibm-blocklink ibm-duo-card__link ibm-background-cool-gray-10\">\\n          <div class=\"ibm-card__content ibm-duo-card__content\">\\n      <div class=\"ibm-grid-container\">\\n        <div class=\"ibm-grid-col-sm-4-4 ibm-grid-col-md-8-7 ibm-grid-col-lg-16-14 ibm-pb-4\">\\n          \\n          \\n          \\n                      <div class=\"bx--type-body-long-02 ibm-textcolor-gray-70 ibm-mb-3 ibm-duo-card__desc\">\\n                          <p><strong>Tools for business\\xa0</strong><br />\\n\\xa0</p>\\n\\n<ul><li><a data-entity-substitution=\"\" data-entity-type=\"\" data-entity-uuid=\"\" href=\"/in-en/consulting?lnk=hpv18pb1\">IBM Consulting</a></li>\\n\\t<li><a href=\"/in-en/cloud/hybrid?lnk=hpv18pb2\">Hybrid Cloud</a></li>\\n\\t<li><a href=\"/in-en/watson?lnk=hpv18pb3\">IBM Watson</a></li>\\n\\t<li><a href=\"/in-en/garage?lnk=hpv18pb4\">IBM Garage</a></li>\\n\\t<li><a href=\"/in-en/blockchain?lnk=hpv18pb5\">Blockchain</a></li>\\n\\t<li><a href=\"https://www.ibm.com/thought-leadership/institute-business-value/?lnk=hpv18pb6\">Institute for Business Value</a></li>\\n\\t<li><a href=\"/in-en/analytics?lnk=hpv18pb7\">Data &amp;\\xa0analytics</a></li>\\n\\t<li><a href=\"/in-en/security?lnk=hpv18pb8\">Security</a></li>\\n\\t<li><a data-entity-substitution=\"\" data-entity-type=\"\" data-entity-uuid=\"\" href=\"/in-en/services/business?lnk=hpv18pb9\">Business Services</a></li>\\n\\t<li><a href=\"/in-en/financing?lnk=hpv18pb10\">Financing</a></li>\\n</ul>\\n      \\n            </div>\\n                  </div>\\n      </div>\\n    </div>\\n\\n      \\n    </div>\\n  </div>\\n\\n\\n                </div>\\n                          <div class=\"ibm-grid-col-sm-4-4 ibm-grid-col-md-8-4 ibm-duo-carousel__item ibm-duo-carousel-2b__item\">\\n                    \\n\\n\\n\\n\\n\\n<div class=\"ibm-card ibm-duo-card ibm-card--noborder ibm-mb-0\">\\n\\n  \\n      <div class=\"ibm-blocklink ibm-duo-card__link ibm-background-cool-gray-10\">\\n          <div class=\"ibm-card__content ibm-duo-card__content\">\\n      <div class=\"ibm-grid-container\">\\n        <div class=\"ibm-grid-col-sm-4-4 ibm-grid-col-md-8-7 ibm-grid-col-lg-16-14 ibm-pb-4\">\\n          \\n          \\n          \\n                      <div class=\"bx--type-body-long-02 ibm-textcolor-gray-70 ibm-mb-3 ibm-duo-card__desc\">\\n                          <p><strong>\\xa0Trending in tech</strong><br />\\n\\xa0</p>\\n\\n<ul><li><a href=\"/in-en/cloud/redhat?lnk=hpv18pt1\">Red Hat</a></li>\\n\\t<li><a href=\"/in-en/cloud/automation?lnk=hpv18pt2\">Automation</a></li>\\n\\t<li><a href=\"/in-en/cloud/satellite?lnk=hpv18pt3\">IBM Cloud Satellite</a></li>\\n\\t<li><a href=\"/in-en/security/zero-trust?lnk=hpv18pt4\">Zero trust</a></li>\\n\\t<li><a href=\"/in-en/it-infrastructure?lnk=hpv18pt5\">IT infrastructure</a></li>\\n\\t<li><a href=\"https://www.ibm.com/quantum-computing?lnk=hpv18pt6\">Quantum computing</a></li>\\n\\t<li><a href=\"/in-en/cloud/learn/kubernetes?lnk=hpv18pt7\">Kubernetes</a></li>\\n\\t<li><a href=\"/in-en/products/spss-statistics?lnk=ushpv18pt8\">SPSS</a></li>\\n\\t<li><a href=\"/in-en/blockchain?lnk=hpv18pt9\">Blockchain</a></li>\\n\\t<li><a href=\"https://www.ibm.com/in-en/employment?lnk=hpv18pt10\">Careers</a></li>\\n</ul>\\n      \\n            </div>\\n                  </div>\\n      </div>\\n    </div>\\n\\n      \\n    </div>\\n  </div>\\n\\n\\n                </div>\\n                        <span class=\"ibm-duo-carousel__counter ibm-duo-carousel__counter--3 bx--type-body-long-01 ibm-mb-1 ibm-textcolor-gray-90\"></span>\\n\\n                          <button type=\"button\" class=\"slick-arrow slick-next\" data-ibm-cm-avoid=\"true\">\\n      <svg focusable=\"false\" preserveAspectRatio=\"xMidYMid meet\" xmlns=\"http://www.w3.org/2000/svg\" width=\"32\" height=\"32\" viewBox=\"0 0 32 32\" aria-hidden=\"true\" aria-label=\"Show next content\"><polygon points=\"22,16 12,26 10.6,24.6 19.2,16 10.6,7.4 12,6\"></polygon></svg>\\n</button>\\n                      </div>\\n        </div>\\n      \\n    </div>\\n  </section>\\n\\n              \\n\\n\\n\\n\\n\\n  <section  role=\"article\" about=\"/in-en/node/2598824\" id=\"2598824\" class=\"ibm-duo-band ibm-duo-module-11a-double ibm-background-gray-100\" data-bg-lazy-load>\\n          <div class=\"ibm-grid-container\" data-widget=\"setsameheight\" data-always=\"true\" data-items=\".ibm-duo-module-11a-double__headline\">\\n                  <div class=\"ibm-grid-col-sm-4-4 ibm-grid-col-md-8-4 ibm-grid-col-lg-16-8 ibm-grid-col-seamless\">\\n                \\n\\n\\n\\n\\n<div class=\"ibm-duo-module-11a-double ibm-duo-module-11a-double__item ibm-background-gray-100\">\\n      <div class=\"ibm-duo-module-11a-double__bg  ani-reveal ani-fadeInUp\" style=\"background-image:url(\\'//1.cms.s81c.com/sites/default/files/2022-04-27/Genus_0.jpg\\')\" role=\"img\" aria-label=\"view of the city\"></div>\\n  \\n  <div class=\"ibm-grid-container ibm-duo-module-11a-double__content\">\\n    <div class=\"ibm-grid-col-sm-4-4 ibm-grid-col-md-8-8 ibm-grid-col-lg-16-10\">\\n              <div class=\"ibm-grid-col-sm-4-3 ibm-grid-col-md-8-6 ibm-grid-col-lg-16-16 ibm-grid-col-seamless\">\\n          <h2 class=\"bx--type-expressive-heading-05 ibm-type-light ibm-textcolor-gray-10 ibm-mb-3 ibm-pb-0 ibm-duo-module-11a-double__headline ani-reveal ani-fadeInUp\">\\n                <span > Leading smart meter manufacturer modernizes India</span>\\n\\n          </h2>\\n        </div>\\n      \\n              <div class=\"ibm-grid-col-sm-4-3 ibm-grid-col-md-8-6 ibm-grid-col-lg-16-12 ibm-grid-col-seamless\">\\n          <div class=\"bx--type-body-long-02 ibm-textcolor-gray-30 ibm-mb-0 ibm-duo-module-11a-double__subhead ibm-pb-1 ani-reveal ani-fadeInUp\">\\n                        <p>Genus Power gets electrifying boost from IBM Storage</p>\\n      \\n          </div>\\n        </div>\\n          </div>\\n  </div>\\n\\n      <div class=\"ibm-duo-module-11a-double__cta\">\\n      <div class=\"ibm-grid-container\">\\n        <div class=\"ibm-grid-col-sm-4-2 ibm-grid-col-md-8-4 ibm-grid-col-lg-16-8\"></div>\\n        <div class=\"ibm-grid-col-sm-4-2 ibm-grid-col-md-8-4 ibm-grid-col-lg-16-8 ibm-duo-module-11a-double__cta-wrapper\">\\n          \\n\\n        \\n  \\n  \\n  \\n\\n\\n\\n\\n  <a  target=\"_blank\" href=\"https://www.ibm.com/case-studies/genus-power-infrastructures/?lnk=hpv18cs1\" class=\"ibm-duo-cta ani-reveal ani-fadeInUp\">\\n    <p class=\\'ibm-type-e ibm-textcolor-white-core ibm-p ibm-mb-0\\'>Read more</p>\\n    <div class=\"ibm-duo-u--link-icon\">\\n      \\n    \\n        \\n\\n                      <svg focusable=\"false\" class=\"ibm-duo-u--link-icon--arrow-right\" preserveAspectRatio=\"xMidYMid meet\" xmlns=\"http://www.w3.org/2000/svg\" fill=\"currentColor\" aria-hidden=\"true\" aria-label=\"View this link\" width=\"20\" height=\"20\" viewBox=\"0 0 20 20\" slot=\"icon\"><path d=\"M11.8 2.8L10.8 3.8 16.2 9.3 1 9.3 1 10.7 16.2 10.7 10.8 16.2 11.8 17.2 19 10z\"></path></svg>\\n          \\n    \\n    </div>\\n  </a>\\n\\n\\n        </div>\\n      </div>\\n    </div>\\n  </div>\\n\\n\\n            </div>\\n                  <div class=\"ibm-grid-col-sm-4-4 ibm-grid-col-md-8-4 ibm-grid-col-lg-16-8 ibm-grid-col-seamless\">\\n                \\n\\n\\n\\n\\n<div class=\"ibm-duo-module-11a-double ibm-duo-module-11a-double__item ibm-background-gray-100\">\\n      <div class=\"ibm-duo-module-11a-double__bg  ani-reveal ani-fadeInUp\" style=\"background-image:url(\\'//1.cms.s81c.com/sites/default/files/2021-02-26/cs-hub-logos-1042x1130.png\\')\" role=\"img\" aria-label=\"Logos of various IBM clients\"></div>\\n  \\n  <div class=\"ibm-grid-container ibm-duo-module-11a-double__content\">\\n    <div class=\"ibm-grid-col-sm-4-4 ibm-grid-col-md-8-8 ibm-grid-col-lg-16-10\">\\n              <div class=\"ibm-grid-col-sm-4-3 ibm-grid-col-md-8-6 ibm-grid-col-lg-16-16 ibm-grid-col-seamless\">\\n          <h2 class=\"bx--type-expressive-heading-05 ibm-type-light ibm-textcolor-gray-10 ibm-mb-3 ibm-pb-0 ibm-duo-module-11a-double__headline ani-reveal ani-fadeInUp\">\\n                <span > Client success stories</span>\\n\\n          </h2>\\n        </div>\\n      \\n              <div class=\"ibm-grid-col-sm-4-3 ibm-grid-col-md-8-6 ibm-grid-col-lg-16-12 ibm-grid-col-seamless\">\\n          <div class=\"bx--type-body-long-02 ibm-textcolor-gray-30 ibm-mb-0 ibm-duo-module-11a-double__subhead ibm-pb-1 ani-reveal ani-fadeInUp\">\\n                        <p>Across industries and across the globe, IBM helps businesses meet their goals</p>\\n      \\n          </div>\\n        </div>\\n          </div>\\n  </div>\\n\\n      <div class=\"ibm-duo-module-11a-double__cta\">\\n      <div class=\"ibm-grid-container\">\\n        <div class=\"ibm-grid-col-sm-4-2 ibm-grid-col-md-8-4 ibm-grid-col-lg-16-8\"></div>\\n        <div class=\"ibm-grid-col-sm-4-2 ibm-grid-col-md-8-4 ibm-grid-col-lg-16-8 ibm-duo-module-11a-double__cta-wrapper\">\\n          \\n\\n        \\n  \\n  \\n  \\n\\n\\n\\n\\n  <a  target=\"_self\" href=\"/case-studies/search?lnk=hpv18cs2\" class=\"ibm-duo-cta ani-reveal ani-fadeInUp\">\\n    <p class=\\'ibm-type-e ibm-textcolor-white-core ibm-p ibm-mb-0\\'>See how IBM technology is driving real-world solutions</p>\\n    <div class=\"ibm-duo-u--link-icon\">\\n      \\n    \\n        \\n\\n                      <svg focusable=\"false\" class=\"ibm-duo-u--link-icon--arrow-right\" preserveAspectRatio=\"xMidYMid meet\" xmlns=\"http://www.w3.org/2000/svg\" fill=\"currentColor\" aria-hidden=\"true\" aria-label=\"View this link\" width=\"20\" height=\"20\" viewBox=\"0 0 20 20\" slot=\"icon\"><path d=\"M11.8 2.8L10.8 3.8 16.2 9.3 1 9.3 1 10.7 16.2 10.7 10.8 16.2 11.8 17.2 19 10z\"></path></svg>\\n          \\n    \\n    </div>\\n  </a>\\n\\n\\n        </div>\\n      </div>\\n    </div>\\n  </div>\\n\\n\\n            </div>\\n              <div>\\n      </section>\\n\\n      \\n          </div>\\n\\n        </div>       </div>     </div>   </div> </main>\\n\\n  </div>\\n\\n  </div>\\n\\n  </div>\\n    <footer role=\"contentinfo\" aria-label=\"IBM\">\\n      <div class=\"region region-footer\">\\n    \\n\\n<div id=\"ibm-footer-module\">\\n    <section role=\"region\" aria-label=\"Resources\">\\n\\n            <div class=\"ibm-columns\">\\n              </div>\\n      \\n        \\n    </section>\\n\\n</div>\\n\\n\\n<div id=\"ibm-footer\">\\n\\n    <div class=\"ibm-columns\">\\n      <div class=\"ibm-col-1-1\">\\n                  <div class=\"ibm-footer-corporate-links\">\\n            <ul>\\n                            <li id=\"ibm-truste-cp\">\\n                <a href=\"#\" onclick=\"truste.eu.clickListener();return false;\">Cookie preferences</a>\\n              </li>\\n            </ul>\\n          </div>\\n        \\n                </div>\\n    </div>\\n\\n</div>\\n\\n  </div>\\n\\n  </footer>\\n  \\n</div>\\n\\n  </div>\\n\\n    \\n    <script type=\"application/json\" data-drupal-selector=\"drupal-settings-json\">{\"path\":{\"baseUrl\":\"\\\\/\",\"scriptPath\":null,\"pathPrefix\":\"in-en\\\\/\",\"currentPath\":\"node\\\\/2598578\",\"currentPathIsAdmin\":false,\"isFront\":false,\"currentLanguage\":\"en-in\"},\"pluralDelimiter\":\"\\\\u0003\",\"suppressDeprecationErrors\":true,\"ajaxPageState\":{\"libraries\":\"hc_fractal\\\\/01-1b,hc_fractal\\\\/02-2b,hc_fractal\\\\/04-4e,hc_fractal\\\\/11-11a-double,hc_fractal\\\\/12-12a,hc_fractal\\\\/animations,hc_fractal\\\\/card,hc_fractal\\\\/card-image,hc_fractal\\\\/full-width-double,hc_fractal\\\\/full-width-text,hc_fractal\\\\/heading,hc_fractal\\\\/image,hc_fractal\\\\/main_css,hc_fractal\\\\/main_js,hc_fractal\\\\/picturefill_background,hc_fractal\\\\/slick,ibm_ckeditor\\\\/ibm_ckeditor_table_style,ibm_duo\\\\/ibm_duo,ibm_tmgmt_concurrency\\\\/ibm_tmgmt_concurrency_messaging,ibm_tmgmt_concurrency\\\\/ibm_tmgmt_concurrency_publisher,ibm_tmgmt_concurrency\\\\/ibm_tmgmt_concurrency_publisher_finish,metadata\\\\/focus_area,northstar\\\\/font,northstar\\\\/grid-fluid,northstar\\\\/shame,northstar\\\\/stats,northstar\\\\/tables,system\\\\/base,tactic_codes\\\\/tactic_codes\",\"theme\":\"ibm_duo\",\"theme_token\":\"7fzJfp9Yu5ij6VVaMjLeCIQwWJe_OtSkkuc0TTuBM48\"},\"ajaxTrustedUrl\":[],\"ibm_tmgmt_concurrency_publisher\":{\"nid\":\"2598578\",\"language\":\"en-in\",\"submit_button\":\"#edit-submit\",\"form\":\"#content-moderation-entity-moderation-form\",\"route\":\"entity.node.canonical\"},\"user\":{\"uid\":0,\"permissionsHash\":\"38c521f2e73acba97a244c38ca669a8077be690dd45b09557a61cf00896ec935\"}}</script>\\n<script src=\"//1.cms.s81c.com/sites/default/files/js/js_P8-xl8MDsjn0l2X5M-qJaHxICcDZeZl2rLszwy-vd34.js\"></script>\\n<script src=\"//www.ibm.com/common/digitaladvisor/cm-app/latest/cm-app.min.js\" defer></script>\\n<script src=\"//1.www.s81c.com/common/v18/drupal/js/tables.js\" defer></script>\\n<script src=\"//1.cms.s81c.com/modules/contrib/hc_fractal/dist/js/interactions.js?v=1.1.11\" defer></script>\\n<script src=\"//1.cms.s81c.com/modules/contrib/hc_fractal/dist/js/background-image-lazy-load.js?v=1.1.11\" defer></script>\\n<script src=\"//1.cms.s81c.com/modules/contrib/hc_fractal/dist/js/v18-widgets.js?v=1.1.11\" defer></script>\\n<script src=\"//1.www.s81c.com/common/js/tactic.js\" defer></script>\\n<script src=\"//1.www.s81c.com/common/js/tacticbindlinks.js\" defer></script>\\n<script src=\"//1.cms.s81c.com/sites/default/files/js/js_W_bHvUagE3lFYZ970giSXaOtloIBMvGEE_Phl54d5lY.js\"></script>\\n<script src=\"//1.cms.s81c.com/modules/contrib/hc_fractal/dist/js/slick-sliders.js?v=1.1.18\" defer></script>\\n<script src=\"//1.cms.s81c.com/modules/contrib/hc_fractal/dist/js/plugins/picturefill-background.js?v=1.1.10\" defer></script>\\n\\n      <script type=\"text/javascript\"  src=\"/uP04HlOJJA/ZyWDc8R5/sf/S59SLcSbw1/aioUXzp6AQ/HmN/WSjNLJTk\"></script><link rel=\"stylesheet\" type=\"text/css\"  href=\"/_sec/cp_challenge/sec-3-6.css\">\\n            <script  src=\"/_sec/cp_challenge/sec-cpt-3-6.js\" async defer></script>\\n            <div id=\"sec-overlay\" style=\"display:none;\">\\n            <div id=\"sec-container\">\\n            </div>\\n          </div></body>\\n</html>\\n'"
      ]
     },
     "execution_count": 162,
     "metadata": {},
     "output_type": "execute_result"
    }
   ],
   "source": [
    "data=requests.get(url).text\n",
    "data"
   ]
  },
  {
   "cell_type": "code",
   "execution_count": 163,
   "metadata": {},
   "outputs": [],
   "source": [
    "soup=BeautifulSoup(data,'html.parser')"
   ]
  },
  {
   "cell_type": "code",
   "execution_count": 167,
   "metadata": {},
   "outputs": [
    {
     "name": "stdout",
     "output_type": "stream",
     "text": [
      "https://www.ibm.com/in/en\n",
      "https://www.ibm.com/sitemap/in/en\n",
      "/in-en/about/secure-your-business?lnk=hpv18l1\n",
      "/in-en/analytics/data-fabric?lnk=hpv18f1\n",
      "https://www.ibm.com/it-infrastructure/us-en/resources/hybrid-multicloud-infrastructure-strategy/?lnk=hpv18f2\n",
      "https://www.ibm.com/in-en/cloud/aiops/?lnk=hpv18f3\n",
      "https://www.ibm.com/cloud/in-en/campaign/cloud-simplicity/?lnk=hpv18f4\n",
      "/in-en/products/offers-and-discounts?lnk=hpv18t5\n",
      "/in-en/products/maximo?lnk=hpv18t1&psrc=NONE&pexp=DEF&lnk2=maas360\n",
      "/in-en/qradar?lnk=hpv18t2&psrc=NONE&lnk2=trial_Qradar&pexp=DEF\n",
      "/in-en/products/cloud-pak-for-data?lnk=hpv18t3&psrc=NONE&pexp=DEF&lnk2=trial_CloudPakData\n",
      "/in-en/cloud/free?lnk=hpv18t4&psrc=NONE&pexp=DEF&lnk2=trial_Cloud\n",
      "/in-en/cloud/watson-assistant?lnk=hpv18t4&psrc=NONE&lnk2=trial_AsperaCloud&pexp=DEF\n",
      "https://newsroom.ibm.com/Update-on-our-actions-War-in-Ukraine?lnk=hpv18n1\n",
      "https://developer.ibm.com/?lnk=hpv18pd1\n",
      "https://developer.ibm.com/depmodels/cloud/?lnk=hpv18pd2\n",
      "https://developer.ibm.com/technologies/artificial-intelligence?lnk=hpv18pd3\n",
      "https://developer.ibm.com/articles?lnk=hpv18pd4\n",
      "https://www.ibm.com/docs/en?lnk=hpv18pd5\n",
      "https://www.ibm.com/training/?lnk=hpv18pd6\n",
      "https://developer.ibm.com/patterns/?lnk=hpv18pd7\n",
      "https://developer.ibm.com/tutorials/?lnk=hpv18pd8\n",
      "https://www.redbooks.ibm.com/?lnk=hpv18pd9\n",
      "https://www.ibm.com/support/home/?lnk=hpv18pd10\n",
      "/in-en/consulting?lnk=hpv18pb1\n",
      "/in-en/cloud/hybrid?lnk=hpv18pb2\n",
      "/in-en/watson?lnk=hpv18pb3\n",
      "/in-en/garage?lnk=hpv18pb4\n",
      "/in-en/blockchain?lnk=hpv18pb5\n",
      "https://www.ibm.com/thought-leadership/institute-business-value/?lnk=hpv18pb6\n",
      "/in-en/analytics?lnk=hpv18pb7\n",
      "/in-en/security?lnk=hpv18pb8\n",
      "/in-en/services/business?lnk=hpv18pb9\n",
      "/in-en/financing?lnk=hpv18pb10\n",
      "/in-en/cloud/redhat?lnk=hpv18pt1\n",
      "/in-en/cloud/automation?lnk=hpv18pt2\n",
      "/in-en/cloud/satellite?lnk=hpv18pt3\n",
      "/in-en/security/zero-trust?lnk=hpv18pt4\n",
      "/in-en/it-infrastructure?lnk=hpv18pt5\n",
      "https://www.ibm.com/quantum-computing?lnk=hpv18pt6\n",
      "/in-en/cloud/learn/kubernetes?lnk=hpv18pt7\n",
      "/in-en/products/spss-statistics?lnk=ushpv18pt8\n",
      "/in-en/blockchain?lnk=hpv18pt9\n",
      "https://www.ibm.com/in-en/employment?lnk=hpv18pt10\n",
      "https://www.ibm.com/case-studies/genus-power-infrastructures/?lnk=hpv18cs1\n",
      "/case-studies/search?lnk=hpv18cs2\n",
      "#\n"
     ]
    }
   ],
   "source": [
    "for link in soup.find_all('a',href=True):\n",
    "    \n",
    "    print(link.get('href'))"
   ]
  },
  {
   "cell_type": "code",
   "execution_count": 165,
   "metadata": {},
   "outputs": [],
   "source": [
    "for link in soup.find_all('ing'):\n",
    "    print(link)\n",
    "    print(link.get('src'))"
   ]
  }
 ],
 "metadata": {
  "interpreter": {
   "hash": "5e09b17bdc9ae8a018a6b6043c3c7702467d26cb2ef42762ab391e95f9a55bb6"
  },
  "kernelspec": {
   "display_name": "Python 3.9.7 64-bit",
   "language": "python",
   "name": "python3"
  },
  "language_info": {
   "codemirror_mode": {
    "name": "ipython",
    "version": 3
   },
   "file_extension": ".py",
   "mimetype": "text/x-python",
   "name": "python",
   "nbconvert_exporter": "python",
   "pygments_lexer": "ipython3",
   "version": "3.9.7"
  },
  "orig_nbformat": 4
 },
 "nbformat": 4,
 "nbformat_minor": 2
}
